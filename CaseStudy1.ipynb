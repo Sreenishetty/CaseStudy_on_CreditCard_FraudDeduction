{
  "nbformat": 4,
  "nbformat_minor": 0,
  "metadata": {
    "colab": {
      "provenance": []
    },
    "kernelspec": {
      "name": "python3",
      "display_name": "Python 3"
    },
    "language_info": {
      "name": "python"
    }
  },
  "cells": [
    {
      "cell_type": "code",
      "execution_count": null,
      "metadata": {
        "id": "PnWi-9AlTY8d"
      },
      "outputs": [],
      "source": [
        "# https://www.kaggle.com/datasets/mlg-ulb/creditcardfraud"
      ]
    },
    {
      "cell_type": "code",
      "source": [
        "import pandas as pd\n"
      ],
      "metadata": {
        "id": "CBsNVP0PUOsn"
      },
      "execution_count": null,
      "outputs": []
    },
    {
      "cell_type": "code",
      "source": [
        "data = pd.read_csv('creditcard.csv')"
      ],
      "metadata": {
        "id": "5rQtsGF9Ujs8"
      },
      "execution_count": null,
      "outputs": []
    },
    {
      "cell_type": "code",
      "source": [
        "data.shape"
      ],
      "metadata": {
        "colab": {
          "base_uri": "https://localhost:8080/"
        },
        "id": "2AsvtuUfUrNl",
        "outputId": "6fe965ce-c8bb-457d-ecb6-d0b69672d5db"
      },
      "execution_count": null,
      "outputs": [
        {
          "output_type": "execute_result",
          "data": {
            "text/plain": [
              "(284807, 31)"
            ]
          },
          "metadata": {},
          "execution_count": 112
        }
      ]
    },
    {
      "cell_type": "code",
      "source": [
        "data.head()"
      ],
      "metadata": {
        "colab": {
          "base_uri": "https://localhost:8080/",
          "height": 299
        },
        "id": "U84JNgT0UwrT",
        "outputId": "c18588dc-a1f7-42b8-d8d4-b22957ff9ae6"
      },
      "execution_count": null,
      "outputs": [
        {
          "output_type": "execute_result",
          "data": {
            "text/plain": [
              "   Time        V1        V2        V3        V4        V5        V6        V7  \\\n",
              "0   0.0 -1.359807 -0.072781  2.536347  1.378155 -0.338321  0.462388  0.239599   \n",
              "1   0.0  1.191857  0.266151  0.166480  0.448154  0.060018 -0.082361 -0.078803   \n",
              "2   1.0 -1.358354 -1.340163  1.773209  0.379780 -0.503198  1.800499  0.791461   \n",
              "3   1.0 -0.966272 -0.185226  1.792993 -0.863291 -0.010309  1.247203  0.237609   \n",
              "4   2.0 -1.158233  0.877737  1.548718  0.403034 -0.407193  0.095921  0.592941   \n",
              "\n",
              "         V8        V9  ...       V21       V22       V23       V24       V25  \\\n",
              "0  0.098698  0.363787  ... -0.018307  0.277838 -0.110474  0.066928  0.128539   \n",
              "1  0.085102 -0.255425  ... -0.225775 -0.638672  0.101288 -0.339846  0.167170   \n",
              "2  0.247676 -1.514654  ...  0.247998  0.771679  0.909412 -0.689281 -0.327642   \n",
              "3  0.377436 -1.387024  ... -0.108300  0.005274 -0.190321 -1.175575  0.647376   \n",
              "4 -0.270533  0.817739  ... -0.009431  0.798278 -0.137458  0.141267 -0.206010   \n",
              "\n",
              "        V26       V27       V28  Amount  Class  \n",
              "0 -0.189115  0.133558 -0.021053  149.62      0  \n",
              "1  0.125895 -0.008983  0.014724    2.69      0  \n",
              "2 -0.139097 -0.055353 -0.059752  378.66      0  \n",
              "3 -0.221929  0.062723  0.061458  123.50      0  \n",
              "4  0.502292  0.219422  0.215153   69.99      0  \n",
              "\n",
              "[5 rows x 31 columns]"
            ],
            "text/html": [
              "\n",
              "  <div id=\"df-8b16cf78-c633-4d8c-b052-63071d01e190\">\n",
              "    <div class=\"colab-df-container\">\n",
              "      <div>\n",
              "<style scoped>\n",
              "    .dataframe tbody tr th:only-of-type {\n",
              "        vertical-align: middle;\n",
              "    }\n",
              "\n",
              "    .dataframe tbody tr th {\n",
              "        vertical-align: top;\n",
              "    }\n",
              "\n",
              "    .dataframe thead th {\n",
              "        text-align: right;\n",
              "    }\n",
              "</style>\n",
              "<table border=\"1\" class=\"dataframe\">\n",
              "  <thead>\n",
              "    <tr style=\"text-align: right;\">\n",
              "      <th></th>\n",
              "      <th>Time</th>\n",
              "      <th>V1</th>\n",
              "      <th>V2</th>\n",
              "      <th>V3</th>\n",
              "      <th>V4</th>\n",
              "      <th>V5</th>\n",
              "      <th>V6</th>\n",
              "      <th>V7</th>\n",
              "      <th>V8</th>\n",
              "      <th>V9</th>\n",
              "      <th>...</th>\n",
              "      <th>V21</th>\n",
              "      <th>V22</th>\n",
              "      <th>V23</th>\n",
              "      <th>V24</th>\n",
              "      <th>V25</th>\n",
              "      <th>V26</th>\n",
              "      <th>V27</th>\n",
              "      <th>V28</th>\n",
              "      <th>Amount</th>\n",
              "      <th>Class</th>\n",
              "    </tr>\n",
              "  </thead>\n",
              "  <tbody>\n",
              "    <tr>\n",
              "      <th>0</th>\n",
              "      <td>0.0</td>\n",
              "      <td>-1.359807</td>\n",
              "      <td>-0.072781</td>\n",
              "      <td>2.536347</td>\n",
              "      <td>1.378155</td>\n",
              "      <td>-0.338321</td>\n",
              "      <td>0.462388</td>\n",
              "      <td>0.239599</td>\n",
              "      <td>0.098698</td>\n",
              "      <td>0.363787</td>\n",
              "      <td>...</td>\n",
              "      <td>-0.018307</td>\n",
              "      <td>0.277838</td>\n",
              "      <td>-0.110474</td>\n",
              "      <td>0.066928</td>\n",
              "      <td>0.128539</td>\n",
              "      <td>-0.189115</td>\n",
              "      <td>0.133558</td>\n",
              "      <td>-0.021053</td>\n",
              "      <td>149.62</td>\n",
              "      <td>0</td>\n",
              "    </tr>\n",
              "    <tr>\n",
              "      <th>1</th>\n",
              "      <td>0.0</td>\n",
              "      <td>1.191857</td>\n",
              "      <td>0.266151</td>\n",
              "      <td>0.166480</td>\n",
              "      <td>0.448154</td>\n",
              "      <td>0.060018</td>\n",
              "      <td>-0.082361</td>\n",
              "      <td>-0.078803</td>\n",
              "      <td>0.085102</td>\n",
              "      <td>-0.255425</td>\n",
              "      <td>...</td>\n",
              "      <td>-0.225775</td>\n",
              "      <td>-0.638672</td>\n",
              "      <td>0.101288</td>\n",
              "      <td>-0.339846</td>\n",
              "      <td>0.167170</td>\n",
              "      <td>0.125895</td>\n",
              "      <td>-0.008983</td>\n",
              "      <td>0.014724</td>\n",
              "      <td>2.69</td>\n",
              "      <td>0</td>\n",
              "    </tr>\n",
              "    <tr>\n",
              "      <th>2</th>\n",
              "      <td>1.0</td>\n",
              "      <td>-1.358354</td>\n",
              "      <td>-1.340163</td>\n",
              "      <td>1.773209</td>\n",
              "      <td>0.379780</td>\n",
              "      <td>-0.503198</td>\n",
              "      <td>1.800499</td>\n",
              "      <td>0.791461</td>\n",
              "      <td>0.247676</td>\n",
              "      <td>-1.514654</td>\n",
              "      <td>...</td>\n",
              "      <td>0.247998</td>\n",
              "      <td>0.771679</td>\n",
              "      <td>0.909412</td>\n",
              "      <td>-0.689281</td>\n",
              "      <td>-0.327642</td>\n",
              "      <td>-0.139097</td>\n",
              "      <td>-0.055353</td>\n",
              "      <td>-0.059752</td>\n",
              "      <td>378.66</td>\n",
              "      <td>0</td>\n",
              "    </tr>\n",
              "    <tr>\n",
              "      <th>3</th>\n",
              "      <td>1.0</td>\n",
              "      <td>-0.966272</td>\n",
              "      <td>-0.185226</td>\n",
              "      <td>1.792993</td>\n",
              "      <td>-0.863291</td>\n",
              "      <td>-0.010309</td>\n",
              "      <td>1.247203</td>\n",
              "      <td>0.237609</td>\n",
              "      <td>0.377436</td>\n",
              "      <td>-1.387024</td>\n",
              "      <td>...</td>\n",
              "      <td>-0.108300</td>\n",
              "      <td>0.005274</td>\n",
              "      <td>-0.190321</td>\n",
              "      <td>-1.175575</td>\n",
              "      <td>0.647376</td>\n",
              "      <td>-0.221929</td>\n",
              "      <td>0.062723</td>\n",
              "      <td>0.061458</td>\n",
              "      <td>123.50</td>\n",
              "      <td>0</td>\n",
              "    </tr>\n",
              "    <tr>\n",
              "      <th>4</th>\n",
              "      <td>2.0</td>\n",
              "      <td>-1.158233</td>\n",
              "      <td>0.877737</td>\n",
              "      <td>1.548718</td>\n",
              "      <td>0.403034</td>\n",
              "      <td>-0.407193</td>\n",
              "      <td>0.095921</td>\n",
              "      <td>0.592941</td>\n",
              "      <td>-0.270533</td>\n",
              "      <td>0.817739</td>\n",
              "      <td>...</td>\n",
              "      <td>-0.009431</td>\n",
              "      <td>0.798278</td>\n",
              "      <td>-0.137458</td>\n",
              "      <td>0.141267</td>\n",
              "      <td>-0.206010</td>\n",
              "      <td>0.502292</td>\n",
              "      <td>0.219422</td>\n",
              "      <td>0.215153</td>\n",
              "      <td>69.99</td>\n",
              "      <td>0</td>\n",
              "    </tr>\n",
              "  </tbody>\n",
              "</table>\n",
              "<p>5 rows × 31 columns</p>\n",
              "</div>\n",
              "      <button class=\"colab-df-convert\" onclick=\"convertToInteractive('df-8b16cf78-c633-4d8c-b052-63071d01e190')\"\n",
              "              title=\"Convert this dataframe to an interactive table.\"\n",
              "              style=\"display:none;\">\n",
              "        \n",
              "  <svg xmlns=\"http://www.w3.org/2000/svg\" height=\"24px\"viewBox=\"0 0 24 24\"\n",
              "       width=\"24px\">\n",
              "    <path d=\"M0 0h24v24H0V0z\" fill=\"none\"/>\n",
              "    <path d=\"M18.56 5.44l.94 2.06.94-2.06 2.06-.94-2.06-.94-.94-2.06-.94 2.06-2.06.94zm-11 1L8.5 8.5l.94-2.06 2.06-.94-2.06-.94L8.5 2.5l-.94 2.06-2.06.94zm10 10l.94 2.06.94-2.06 2.06-.94-2.06-.94-.94-2.06-.94 2.06-2.06.94z\"/><path d=\"M17.41 7.96l-1.37-1.37c-.4-.4-.92-.59-1.43-.59-.52 0-1.04.2-1.43.59L10.3 9.45l-7.72 7.72c-.78.78-.78 2.05 0 2.83L4 21.41c.39.39.9.59 1.41.59.51 0 1.02-.2 1.41-.59l7.78-7.78 2.81-2.81c.8-.78.8-2.07 0-2.86zM5.41 20L4 18.59l7.72-7.72 1.47 1.35L5.41 20z\"/>\n",
              "  </svg>\n",
              "      </button>\n",
              "      \n",
              "  <style>\n",
              "    .colab-df-container {\n",
              "      display:flex;\n",
              "      flex-wrap:wrap;\n",
              "      gap: 12px;\n",
              "    }\n",
              "\n",
              "    .colab-df-convert {\n",
              "      background-color: #E8F0FE;\n",
              "      border: none;\n",
              "      border-radius: 50%;\n",
              "      cursor: pointer;\n",
              "      display: none;\n",
              "      fill: #1967D2;\n",
              "      height: 32px;\n",
              "      padding: 0 0 0 0;\n",
              "      width: 32px;\n",
              "    }\n",
              "\n",
              "    .colab-df-convert:hover {\n",
              "      background-color: #E2EBFA;\n",
              "      box-shadow: 0px 1px 2px rgba(60, 64, 67, 0.3), 0px 1px 3px 1px rgba(60, 64, 67, 0.15);\n",
              "      fill: #174EA6;\n",
              "    }\n",
              "\n",
              "    [theme=dark] .colab-df-convert {\n",
              "      background-color: #3B4455;\n",
              "      fill: #D2E3FC;\n",
              "    }\n",
              "\n",
              "    [theme=dark] .colab-df-convert:hover {\n",
              "      background-color: #434B5C;\n",
              "      box-shadow: 0px 1px 3px 1px rgba(0, 0, 0, 0.15);\n",
              "      filter: drop-shadow(0px 1px 2px rgba(0, 0, 0, 0.3));\n",
              "      fill: #FFFFFF;\n",
              "    }\n",
              "  </style>\n",
              "\n",
              "      <script>\n",
              "        const buttonEl =\n",
              "          document.querySelector('#df-8b16cf78-c633-4d8c-b052-63071d01e190 button.colab-df-convert');\n",
              "        buttonEl.style.display =\n",
              "          google.colab.kernel.accessAllowed ? 'block' : 'none';\n",
              "\n",
              "        async function convertToInteractive(key) {\n",
              "          const element = document.querySelector('#df-8b16cf78-c633-4d8c-b052-63071d01e190');\n",
              "          const dataTable =\n",
              "            await google.colab.kernel.invokeFunction('convertToInteractive',\n",
              "                                                     [key], {});\n",
              "          if (!dataTable) return;\n",
              "\n",
              "          const docLinkHtml = 'Like what you see? Visit the ' +\n",
              "            '<a target=\"_blank\" href=https://colab.research.google.com/notebooks/data_table.ipynb>data table notebook</a>'\n",
              "            + ' to learn more about interactive tables.';\n",
              "          element.innerHTML = '';\n",
              "          dataTable['output_type'] = 'display_data';\n",
              "          await google.colab.output.renderOutput(dataTable, element);\n",
              "          const docLink = document.createElement('div');\n",
              "          docLink.innerHTML = docLinkHtml;\n",
              "          element.appendChild(docLink);\n",
              "        }\n",
              "      </script>\n",
              "    </div>\n",
              "  </div>\n",
              "  "
            ]
          },
          "metadata": {},
          "execution_count": 113
        }
      ]
    },
    {
      "cell_type": "code",
      "source": [
        "data['Class'].unique()\n",
        "# Binary classification problem"
      ],
      "metadata": {
        "colab": {
          "base_uri": "https://localhost:8080/"
        },
        "id": "wfc936J_VMIa",
        "outputId": "8a91f61b-8998-4e91-b78e-08c84bf25ea2"
      },
      "execution_count": null,
      "outputs": [
        {
          "output_type": "execute_result",
          "data": {
            "text/plain": [
              "array([0, 1])"
            ]
          },
          "metadata": {},
          "execution_count": 114
        }
      ]
    },
    {
      "cell_type": "code",
      "source": [
        "data.isnull().sum()"
      ],
      "metadata": {
        "colab": {
          "base_uri": "https://localhost:8080/"
        },
        "id": "58nzfOd9Vzp1",
        "outputId": "632a7e39-cec3-46f8-9715-ff9a0a1fbb61"
      },
      "execution_count": null,
      "outputs": [
        {
          "output_type": "execute_result",
          "data": {
            "text/plain": [
              "Time      0\n",
              "V1        0\n",
              "V2        0\n",
              "V3        0\n",
              "V4        0\n",
              "V5        0\n",
              "V6        0\n",
              "V7        0\n",
              "V8        0\n",
              "V9        0\n",
              "V10       0\n",
              "V11       0\n",
              "V12       0\n",
              "V13       0\n",
              "V14       0\n",
              "V15       0\n",
              "V16       0\n",
              "V17       0\n",
              "V18       0\n",
              "V19       0\n",
              "V20       0\n",
              "V21       0\n",
              "V22       0\n",
              "V23       0\n",
              "V24       0\n",
              "V25       0\n",
              "V26       0\n",
              "V27       0\n",
              "V28       0\n",
              "Amount    0\n",
              "Class     0\n",
              "dtype: int64"
            ]
          },
          "metadata": {},
          "execution_count": 115
        }
      ]
    },
    {
      "cell_type": "code",
      "source": [
        "data['Class'].value_counts()"
      ],
      "metadata": {
        "colab": {
          "base_uri": "https://localhost:8080/"
        },
        "id": "XW0BwRhJWCvQ",
        "outputId": "1f497171-222c-4e88-f22c-16125269de6d"
      },
      "execution_count": null,
      "outputs": [
        {
          "output_type": "execute_result",
          "data": {
            "text/plain": [
              "0    284315\n",
              "1       492\n",
              "Name: Class, dtype: int64"
            ]
          },
          "metadata": {},
          "execution_count": 116
        }
      ]
    },
    {
      "cell_type": "code",
      "source": [
        "data.info()"
      ],
      "metadata": {
        "id": "cIS1yl8UWUvS",
        "colab": {
          "base_uri": "https://localhost:8080/"
        },
        "outputId": "00bd446d-b6a4-44af-e1bd-24bb4fbdca7a"
      },
      "execution_count": null,
      "outputs": [
        {
          "output_type": "stream",
          "name": "stdout",
          "text": [
            "<class 'pandas.core.frame.DataFrame'>\n",
            "RangeIndex: 284807 entries, 0 to 284806\n",
            "Data columns (total 31 columns):\n",
            " #   Column  Non-Null Count   Dtype  \n",
            "---  ------  --------------   -----  \n",
            " 0   Time    284807 non-null  float64\n",
            " 1   V1      284807 non-null  float64\n",
            " 2   V2      284807 non-null  float64\n",
            " 3   V3      284807 non-null  float64\n",
            " 4   V4      284807 non-null  float64\n",
            " 5   V5      284807 non-null  float64\n",
            " 6   V6      284807 non-null  float64\n",
            " 7   V7      284807 non-null  float64\n",
            " 8   V8      284807 non-null  float64\n",
            " 9   V9      284807 non-null  float64\n",
            " 10  V10     284807 non-null  float64\n",
            " 11  V11     284807 non-null  float64\n",
            " 12  V12     284807 non-null  float64\n",
            " 13  V13     284807 non-null  float64\n",
            " 14  V14     284807 non-null  float64\n",
            " 15  V15     284807 non-null  float64\n",
            " 16  V16     284807 non-null  float64\n",
            " 17  V17     284807 non-null  float64\n",
            " 18  V18     284807 non-null  float64\n",
            " 19  V19     284807 non-null  float64\n",
            " 20  V20     284807 non-null  float64\n",
            " 21  V21     284807 non-null  float64\n",
            " 22  V22     284807 non-null  float64\n",
            " 23  V23     284807 non-null  float64\n",
            " 24  V24     284807 non-null  float64\n",
            " 25  V25     284807 non-null  float64\n",
            " 26  V26     284807 non-null  float64\n",
            " 27  V27     284807 non-null  float64\n",
            " 28  V28     284807 non-null  float64\n",
            " 29  Amount  284807 non-null  float64\n",
            " 30  Class   284807 non-null  int64  \n",
            "dtypes: float64(30), int64(1)\n",
            "memory usage: 67.4 MB\n"
          ]
        }
      ]
    },
    {
      "cell_type": "code",
      "source": [
        "data.describe()"
      ],
      "metadata": {
        "colab": {
          "base_uri": "https://localhost:8080/",
          "height": 394
        },
        "id": "FHaOQUsNXlpA",
        "outputId": "ee5adbbd-3d56-493d-fc72-e0a221f49268"
      },
      "execution_count": null,
      "outputs": [
        {
          "output_type": "execute_result",
          "data": {
            "text/plain": [
              "                Time            V1            V2            V3            V4  \\\n",
              "count  284807.000000  2.848070e+05  2.848070e+05  2.848070e+05  2.848070e+05   \n",
              "mean    94813.859575  1.168375e-15  3.416908e-16 -1.379537e-15  2.074095e-15   \n",
              "std     47488.145955  1.958696e+00  1.651309e+00  1.516255e+00  1.415869e+00   \n",
              "min         0.000000 -5.640751e+01 -7.271573e+01 -4.832559e+01 -5.683171e+00   \n",
              "25%     54201.500000 -9.203734e-01 -5.985499e-01 -8.903648e-01 -8.486401e-01   \n",
              "50%     84692.000000  1.810880e-02  6.548556e-02  1.798463e-01 -1.984653e-02   \n",
              "75%    139320.500000  1.315642e+00  8.037239e-01  1.027196e+00  7.433413e-01   \n",
              "max    172792.000000  2.454930e+00  2.205773e+01  9.382558e+00  1.687534e+01   \n",
              "\n",
              "                 V5            V6            V7            V8            V9  \\\n",
              "count  2.848070e+05  2.848070e+05  2.848070e+05  2.848070e+05  2.848070e+05   \n",
              "mean   9.604066e-16  1.487313e-15 -5.556467e-16  1.213481e-16 -2.406331e-15   \n",
              "std    1.380247e+00  1.332271e+00  1.237094e+00  1.194353e+00  1.098632e+00   \n",
              "min   -1.137433e+02 -2.616051e+01 -4.355724e+01 -7.321672e+01 -1.343407e+01   \n",
              "25%   -6.915971e-01 -7.682956e-01 -5.540759e-01 -2.086297e-01 -6.430976e-01   \n",
              "50%   -5.433583e-02 -2.741871e-01  4.010308e-02  2.235804e-02 -5.142873e-02   \n",
              "75%    6.119264e-01  3.985649e-01  5.704361e-01  3.273459e-01  5.971390e-01   \n",
              "max    3.480167e+01  7.330163e+01  1.205895e+02  2.000721e+01  1.559499e+01   \n",
              "\n",
              "       ...           V21           V22           V23           V24  \\\n",
              "count  ...  2.848070e+05  2.848070e+05  2.848070e+05  2.848070e+05   \n",
              "mean   ...  1.654067e-16 -3.568593e-16  2.578648e-16  4.473266e-15   \n",
              "std    ...  7.345240e-01  7.257016e-01  6.244603e-01  6.056471e-01   \n",
              "min    ... -3.483038e+01 -1.093314e+01 -4.480774e+01 -2.836627e+00   \n",
              "25%    ... -2.283949e-01 -5.423504e-01 -1.618463e-01 -3.545861e-01   \n",
              "50%    ... -2.945017e-02  6.781943e-03 -1.119293e-02  4.097606e-02   \n",
              "75%    ...  1.863772e-01  5.285536e-01  1.476421e-01  4.395266e-01   \n",
              "max    ...  2.720284e+01  1.050309e+01  2.252841e+01  4.584549e+00   \n",
              "\n",
              "                V25           V26           V27           V28         Amount  \\\n",
              "count  2.848070e+05  2.848070e+05  2.848070e+05  2.848070e+05  284807.000000   \n",
              "mean   5.340915e-16  1.683437e-15 -3.660091e-16 -1.227390e-16      88.349619   \n",
              "std    5.212781e-01  4.822270e-01  4.036325e-01  3.300833e-01     250.120109   \n",
              "min   -1.029540e+01 -2.604551e+00 -2.256568e+01 -1.543008e+01       0.000000   \n",
              "25%   -3.171451e-01 -3.269839e-01 -7.083953e-02 -5.295979e-02       5.600000   \n",
              "50%    1.659350e-02 -5.213911e-02  1.342146e-03  1.124383e-02      22.000000   \n",
              "75%    3.507156e-01  2.409522e-01  9.104512e-02  7.827995e-02      77.165000   \n",
              "max    7.519589e+00  3.517346e+00  3.161220e+01  3.384781e+01   25691.160000   \n",
              "\n",
              "               Class  \n",
              "count  284807.000000  \n",
              "mean        0.001727  \n",
              "std         0.041527  \n",
              "min         0.000000  \n",
              "25%         0.000000  \n",
              "50%         0.000000  \n",
              "75%         0.000000  \n",
              "max         1.000000  \n",
              "\n",
              "[8 rows x 31 columns]"
            ],
            "text/html": [
              "\n",
              "  <div id=\"df-b8606bd0-0cf2-4905-935c-6a5e6464128a\">\n",
              "    <div class=\"colab-df-container\">\n",
              "      <div>\n",
              "<style scoped>\n",
              "    .dataframe tbody tr th:only-of-type {\n",
              "        vertical-align: middle;\n",
              "    }\n",
              "\n",
              "    .dataframe tbody tr th {\n",
              "        vertical-align: top;\n",
              "    }\n",
              "\n",
              "    .dataframe thead th {\n",
              "        text-align: right;\n",
              "    }\n",
              "</style>\n",
              "<table border=\"1\" class=\"dataframe\">\n",
              "  <thead>\n",
              "    <tr style=\"text-align: right;\">\n",
              "      <th></th>\n",
              "      <th>Time</th>\n",
              "      <th>V1</th>\n",
              "      <th>V2</th>\n",
              "      <th>V3</th>\n",
              "      <th>V4</th>\n",
              "      <th>V5</th>\n",
              "      <th>V6</th>\n",
              "      <th>V7</th>\n",
              "      <th>V8</th>\n",
              "      <th>V9</th>\n",
              "      <th>...</th>\n",
              "      <th>V21</th>\n",
              "      <th>V22</th>\n",
              "      <th>V23</th>\n",
              "      <th>V24</th>\n",
              "      <th>V25</th>\n",
              "      <th>V26</th>\n",
              "      <th>V27</th>\n",
              "      <th>V28</th>\n",
              "      <th>Amount</th>\n",
              "      <th>Class</th>\n",
              "    </tr>\n",
              "  </thead>\n",
              "  <tbody>\n",
              "    <tr>\n",
              "      <th>count</th>\n",
              "      <td>284807.000000</td>\n",
              "      <td>2.848070e+05</td>\n",
              "      <td>2.848070e+05</td>\n",
              "      <td>2.848070e+05</td>\n",
              "      <td>2.848070e+05</td>\n",
              "      <td>2.848070e+05</td>\n",
              "      <td>2.848070e+05</td>\n",
              "      <td>2.848070e+05</td>\n",
              "      <td>2.848070e+05</td>\n",
              "      <td>2.848070e+05</td>\n",
              "      <td>...</td>\n",
              "      <td>2.848070e+05</td>\n",
              "      <td>2.848070e+05</td>\n",
              "      <td>2.848070e+05</td>\n",
              "      <td>2.848070e+05</td>\n",
              "      <td>2.848070e+05</td>\n",
              "      <td>2.848070e+05</td>\n",
              "      <td>2.848070e+05</td>\n",
              "      <td>2.848070e+05</td>\n",
              "      <td>284807.000000</td>\n",
              "      <td>284807.000000</td>\n",
              "    </tr>\n",
              "    <tr>\n",
              "      <th>mean</th>\n",
              "      <td>94813.859575</td>\n",
              "      <td>1.168375e-15</td>\n",
              "      <td>3.416908e-16</td>\n",
              "      <td>-1.379537e-15</td>\n",
              "      <td>2.074095e-15</td>\n",
              "      <td>9.604066e-16</td>\n",
              "      <td>1.487313e-15</td>\n",
              "      <td>-5.556467e-16</td>\n",
              "      <td>1.213481e-16</td>\n",
              "      <td>-2.406331e-15</td>\n",
              "      <td>...</td>\n",
              "      <td>1.654067e-16</td>\n",
              "      <td>-3.568593e-16</td>\n",
              "      <td>2.578648e-16</td>\n",
              "      <td>4.473266e-15</td>\n",
              "      <td>5.340915e-16</td>\n",
              "      <td>1.683437e-15</td>\n",
              "      <td>-3.660091e-16</td>\n",
              "      <td>-1.227390e-16</td>\n",
              "      <td>88.349619</td>\n",
              "      <td>0.001727</td>\n",
              "    </tr>\n",
              "    <tr>\n",
              "      <th>std</th>\n",
              "      <td>47488.145955</td>\n",
              "      <td>1.958696e+00</td>\n",
              "      <td>1.651309e+00</td>\n",
              "      <td>1.516255e+00</td>\n",
              "      <td>1.415869e+00</td>\n",
              "      <td>1.380247e+00</td>\n",
              "      <td>1.332271e+00</td>\n",
              "      <td>1.237094e+00</td>\n",
              "      <td>1.194353e+00</td>\n",
              "      <td>1.098632e+00</td>\n",
              "      <td>...</td>\n",
              "      <td>7.345240e-01</td>\n",
              "      <td>7.257016e-01</td>\n",
              "      <td>6.244603e-01</td>\n",
              "      <td>6.056471e-01</td>\n",
              "      <td>5.212781e-01</td>\n",
              "      <td>4.822270e-01</td>\n",
              "      <td>4.036325e-01</td>\n",
              "      <td>3.300833e-01</td>\n",
              "      <td>250.120109</td>\n",
              "      <td>0.041527</td>\n",
              "    </tr>\n",
              "    <tr>\n",
              "      <th>min</th>\n",
              "      <td>0.000000</td>\n",
              "      <td>-5.640751e+01</td>\n",
              "      <td>-7.271573e+01</td>\n",
              "      <td>-4.832559e+01</td>\n",
              "      <td>-5.683171e+00</td>\n",
              "      <td>-1.137433e+02</td>\n",
              "      <td>-2.616051e+01</td>\n",
              "      <td>-4.355724e+01</td>\n",
              "      <td>-7.321672e+01</td>\n",
              "      <td>-1.343407e+01</td>\n",
              "      <td>...</td>\n",
              "      <td>-3.483038e+01</td>\n",
              "      <td>-1.093314e+01</td>\n",
              "      <td>-4.480774e+01</td>\n",
              "      <td>-2.836627e+00</td>\n",
              "      <td>-1.029540e+01</td>\n",
              "      <td>-2.604551e+00</td>\n",
              "      <td>-2.256568e+01</td>\n",
              "      <td>-1.543008e+01</td>\n",
              "      <td>0.000000</td>\n",
              "      <td>0.000000</td>\n",
              "    </tr>\n",
              "    <tr>\n",
              "      <th>25%</th>\n",
              "      <td>54201.500000</td>\n",
              "      <td>-9.203734e-01</td>\n",
              "      <td>-5.985499e-01</td>\n",
              "      <td>-8.903648e-01</td>\n",
              "      <td>-8.486401e-01</td>\n",
              "      <td>-6.915971e-01</td>\n",
              "      <td>-7.682956e-01</td>\n",
              "      <td>-5.540759e-01</td>\n",
              "      <td>-2.086297e-01</td>\n",
              "      <td>-6.430976e-01</td>\n",
              "      <td>...</td>\n",
              "      <td>-2.283949e-01</td>\n",
              "      <td>-5.423504e-01</td>\n",
              "      <td>-1.618463e-01</td>\n",
              "      <td>-3.545861e-01</td>\n",
              "      <td>-3.171451e-01</td>\n",
              "      <td>-3.269839e-01</td>\n",
              "      <td>-7.083953e-02</td>\n",
              "      <td>-5.295979e-02</td>\n",
              "      <td>5.600000</td>\n",
              "      <td>0.000000</td>\n",
              "    </tr>\n",
              "    <tr>\n",
              "      <th>50%</th>\n",
              "      <td>84692.000000</td>\n",
              "      <td>1.810880e-02</td>\n",
              "      <td>6.548556e-02</td>\n",
              "      <td>1.798463e-01</td>\n",
              "      <td>-1.984653e-02</td>\n",
              "      <td>-5.433583e-02</td>\n",
              "      <td>-2.741871e-01</td>\n",
              "      <td>4.010308e-02</td>\n",
              "      <td>2.235804e-02</td>\n",
              "      <td>-5.142873e-02</td>\n",
              "      <td>...</td>\n",
              "      <td>-2.945017e-02</td>\n",
              "      <td>6.781943e-03</td>\n",
              "      <td>-1.119293e-02</td>\n",
              "      <td>4.097606e-02</td>\n",
              "      <td>1.659350e-02</td>\n",
              "      <td>-5.213911e-02</td>\n",
              "      <td>1.342146e-03</td>\n",
              "      <td>1.124383e-02</td>\n",
              "      <td>22.000000</td>\n",
              "      <td>0.000000</td>\n",
              "    </tr>\n",
              "    <tr>\n",
              "      <th>75%</th>\n",
              "      <td>139320.500000</td>\n",
              "      <td>1.315642e+00</td>\n",
              "      <td>8.037239e-01</td>\n",
              "      <td>1.027196e+00</td>\n",
              "      <td>7.433413e-01</td>\n",
              "      <td>6.119264e-01</td>\n",
              "      <td>3.985649e-01</td>\n",
              "      <td>5.704361e-01</td>\n",
              "      <td>3.273459e-01</td>\n",
              "      <td>5.971390e-01</td>\n",
              "      <td>...</td>\n",
              "      <td>1.863772e-01</td>\n",
              "      <td>5.285536e-01</td>\n",
              "      <td>1.476421e-01</td>\n",
              "      <td>4.395266e-01</td>\n",
              "      <td>3.507156e-01</td>\n",
              "      <td>2.409522e-01</td>\n",
              "      <td>9.104512e-02</td>\n",
              "      <td>7.827995e-02</td>\n",
              "      <td>77.165000</td>\n",
              "      <td>0.000000</td>\n",
              "    </tr>\n",
              "    <tr>\n",
              "      <th>max</th>\n",
              "      <td>172792.000000</td>\n",
              "      <td>2.454930e+00</td>\n",
              "      <td>2.205773e+01</td>\n",
              "      <td>9.382558e+00</td>\n",
              "      <td>1.687534e+01</td>\n",
              "      <td>3.480167e+01</td>\n",
              "      <td>7.330163e+01</td>\n",
              "      <td>1.205895e+02</td>\n",
              "      <td>2.000721e+01</td>\n",
              "      <td>1.559499e+01</td>\n",
              "      <td>...</td>\n",
              "      <td>2.720284e+01</td>\n",
              "      <td>1.050309e+01</td>\n",
              "      <td>2.252841e+01</td>\n",
              "      <td>4.584549e+00</td>\n",
              "      <td>7.519589e+00</td>\n",
              "      <td>3.517346e+00</td>\n",
              "      <td>3.161220e+01</td>\n",
              "      <td>3.384781e+01</td>\n",
              "      <td>25691.160000</td>\n",
              "      <td>1.000000</td>\n",
              "    </tr>\n",
              "  </tbody>\n",
              "</table>\n",
              "<p>8 rows × 31 columns</p>\n",
              "</div>\n",
              "      <button class=\"colab-df-convert\" onclick=\"convertToInteractive('df-b8606bd0-0cf2-4905-935c-6a5e6464128a')\"\n",
              "              title=\"Convert this dataframe to an interactive table.\"\n",
              "              style=\"display:none;\">\n",
              "        \n",
              "  <svg xmlns=\"http://www.w3.org/2000/svg\" height=\"24px\"viewBox=\"0 0 24 24\"\n",
              "       width=\"24px\">\n",
              "    <path d=\"M0 0h24v24H0V0z\" fill=\"none\"/>\n",
              "    <path d=\"M18.56 5.44l.94 2.06.94-2.06 2.06-.94-2.06-.94-.94-2.06-.94 2.06-2.06.94zm-11 1L8.5 8.5l.94-2.06 2.06-.94-2.06-.94L8.5 2.5l-.94 2.06-2.06.94zm10 10l.94 2.06.94-2.06 2.06-.94-2.06-.94-.94-2.06-.94 2.06-2.06.94z\"/><path d=\"M17.41 7.96l-1.37-1.37c-.4-.4-.92-.59-1.43-.59-.52 0-1.04.2-1.43.59L10.3 9.45l-7.72 7.72c-.78.78-.78 2.05 0 2.83L4 21.41c.39.39.9.59 1.41.59.51 0 1.02-.2 1.41-.59l7.78-7.78 2.81-2.81c.8-.78.8-2.07 0-2.86zM5.41 20L4 18.59l7.72-7.72 1.47 1.35L5.41 20z\"/>\n",
              "  </svg>\n",
              "      </button>\n",
              "      \n",
              "  <style>\n",
              "    .colab-df-container {\n",
              "      display:flex;\n",
              "      flex-wrap:wrap;\n",
              "      gap: 12px;\n",
              "    }\n",
              "\n",
              "    .colab-df-convert {\n",
              "      background-color: #E8F0FE;\n",
              "      border: none;\n",
              "      border-radius: 50%;\n",
              "      cursor: pointer;\n",
              "      display: none;\n",
              "      fill: #1967D2;\n",
              "      height: 32px;\n",
              "      padding: 0 0 0 0;\n",
              "      width: 32px;\n",
              "    }\n",
              "\n",
              "    .colab-df-convert:hover {\n",
              "      background-color: #E2EBFA;\n",
              "      box-shadow: 0px 1px 2px rgba(60, 64, 67, 0.3), 0px 1px 3px 1px rgba(60, 64, 67, 0.15);\n",
              "      fill: #174EA6;\n",
              "    }\n",
              "\n",
              "    [theme=dark] .colab-df-convert {\n",
              "      background-color: #3B4455;\n",
              "      fill: #D2E3FC;\n",
              "    }\n",
              "\n",
              "    [theme=dark] .colab-df-convert:hover {\n",
              "      background-color: #434B5C;\n",
              "      box-shadow: 0px 1px 3px 1px rgba(0, 0, 0, 0.15);\n",
              "      filter: drop-shadow(0px 1px 2px rgba(0, 0, 0, 0.3));\n",
              "      fill: #FFFFFF;\n",
              "    }\n",
              "  </style>\n",
              "\n",
              "      <script>\n",
              "        const buttonEl =\n",
              "          document.querySelector('#df-b8606bd0-0cf2-4905-935c-6a5e6464128a button.colab-df-convert');\n",
              "        buttonEl.style.display =\n",
              "          google.colab.kernel.accessAllowed ? 'block' : 'none';\n",
              "\n",
              "        async function convertToInteractive(key) {\n",
              "          const element = document.querySelector('#df-b8606bd0-0cf2-4905-935c-6a5e6464128a');\n",
              "          const dataTable =\n",
              "            await google.colab.kernel.invokeFunction('convertToInteractive',\n",
              "                                                     [key], {});\n",
              "          if (!dataTable) return;\n",
              "\n",
              "          const docLinkHtml = 'Like what you see? Visit the ' +\n",
              "            '<a target=\"_blank\" href=https://colab.research.google.com/notebooks/data_table.ipynb>data table notebook</a>'\n",
              "            + ' to learn more about interactive tables.';\n",
              "          element.innerHTML = '';\n",
              "          dataTable['output_type'] = 'display_data';\n",
              "          await google.colab.output.renderOutput(dataTable, element);\n",
              "          const docLink = document.createElement('div');\n",
              "          docLink.innerHTML = docLinkHtml;\n",
              "          element.appendChild(docLink);\n",
              "        }\n",
              "      </script>\n",
              "    </div>\n",
              "  </div>\n",
              "  "
            ]
          },
          "metadata": {},
          "execution_count": 118
        }
      ]
    },
    {
      "cell_type": "code",
      "source": [
        "data.describe().round(2)"
      ],
      "metadata": {
        "colab": {
          "base_uri": "https://localhost:8080/",
          "height": 394
        },
        "id": "y6QASKh4Xx8B",
        "outputId": "f5c219e7-96e6-430b-98e6-0aae2d245bf8"
      },
      "execution_count": null,
      "outputs": [
        {
          "output_type": "execute_result",
          "data": {
            "text/plain": [
              "            Time         V1         V2         V3         V4         V5  \\\n",
              "count  284807.00  284807.00  284807.00  284807.00  284807.00  284807.00   \n",
              "mean    94813.86       0.00       0.00      -0.00       0.00       0.00   \n",
              "std     47488.15       1.96       1.65       1.52       1.42       1.38   \n",
              "min         0.00     -56.41     -72.72     -48.33      -5.68    -113.74   \n",
              "25%     54201.50      -0.92      -0.60      -0.89      -0.85      -0.69   \n",
              "50%     84692.00       0.02       0.07       0.18      -0.02      -0.05   \n",
              "75%    139320.50       1.32       0.80       1.03       0.74       0.61   \n",
              "max    172792.00       2.45      22.06       9.38      16.88      34.80   \n",
              "\n",
              "              V6         V7         V8         V9  ...        V21        V22  \\\n",
              "count  284807.00  284807.00  284807.00  284807.00  ...  284807.00  284807.00   \n",
              "mean        0.00      -0.00       0.00      -0.00  ...       0.00      -0.00   \n",
              "std         1.33       1.24       1.19       1.10  ...       0.73       0.73   \n",
              "min       -26.16     -43.56     -73.22     -13.43  ...     -34.83     -10.93   \n",
              "25%        -0.77      -0.55      -0.21      -0.64  ...      -0.23      -0.54   \n",
              "50%        -0.27       0.04       0.02      -0.05  ...      -0.03       0.01   \n",
              "75%         0.40       0.57       0.33       0.60  ...       0.19       0.53   \n",
              "max        73.30     120.59      20.01      15.59  ...      27.20      10.50   \n",
              "\n",
              "             V23        V24        V25        V26        V27        V28  \\\n",
              "count  284807.00  284807.00  284807.00  284807.00  284807.00  284807.00   \n",
              "mean        0.00       0.00       0.00       0.00      -0.00      -0.00   \n",
              "std         0.62       0.61       0.52       0.48       0.40       0.33   \n",
              "min       -44.81      -2.84     -10.30      -2.60     -22.57     -15.43   \n",
              "25%        -0.16      -0.35      -0.32      -0.33      -0.07      -0.05   \n",
              "50%        -0.01       0.04       0.02      -0.05       0.00       0.01   \n",
              "75%         0.15       0.44       0.35       0.24       0.09       0.08   \n",
              "max        22.53       4.58       7.52       3.52      31.61      33.85   \n",
              "\n",
              "          Amount      Class  \n",
              "count  284807.00  284807.00  \n",
              "mean       88.35       0.00  \n",
              "std       250.12       0.04  \n",
              "min         0.00       0.00  \n",
              "25%         5.60       0.00  \n",
              "50%        22.00       0.00  \n",
              "75%        77.16       0.00  \n",
              "max     25691.16       1.00  \n",
              "\n",
              "[8 rows x 31 columns]"
            ],
            "text/html": [
              "\n",
              "  <div id=\"df-473f77c7-b29c-4a40-a825-7cc780242b29\">\n",
              "    <div class=\"colab-df-container\">\n",
              "      <div>\n",
              "<style scoped>\n",
              "    .dataframe tbody tr th:only-of-type {\n",
              "        vertical-align: middle;\n",
              "    }\n",
              "\n",
              "    .dataframe tbody tr th {\n",
              "        vertical-align: top;\n",
              "    }\n",
              "\n",
              "    .dataframe thead th {\n",
              "        text-align: right;\n",
              "    }\n",
              "</style>\n",
              "<table border=\"1\" class=\"dataframe\">\n",
              "  <thead>\n",
              "    <tr style=\"text-align: right;\">\n",
              "      <th></th>\n",
              "      <th>Time</th>\n",
              "      <th>V1</th>\n",
              "      <th>V2</th>\n",
              "      <th>V3</th>\n",
              "      <th>V4</th>\n",
              "      <th>V5</th>\n",
              "      <th>V6</th>\n",
              "      <th>V7</th>\n",
              "      <th>V8</th>\n",
              "      <th>V9</th>\n",
              "      <th>...</th>\n",
              "      <th>V21</th>\n",
              "      <th>V22</th>\n",
              "      <th>V23</th>\n",
              "      <th>V24</th>\n",
              "      <th>V25</th>\n",
              "      <th>V26</th>\n",
              "      <th>V27</th>\n",
              "      <th>V28</th>\n",
              "      <th>Amount</th>\n",
              "      <th>Class</th>\n",
              "    </tr>\n",
              "  </thead>\n",
              "  <tbody>\n",
              "    <tr>\n",
              "      <th>count</th>\n",
              "      <td>284807.00</td>\n",
              "      <td>284807.00</td>\n",
              "      <td>284807.00</td>\n",
              "      <td>284807.00</td>\n",
              "      <td>284807.00</td>\n",
              "      <td>284807.00</td>\n",
              "      <td>284807.00</td>\n",
              "      <td>284807.00</td>\n",
              "      <td>284807.00</td>\n",
              "      <td>284807.00</td>\n",
              "      <td>...</td>\n",
              "      <td>284807.00</td>\n",
              "      <td>284807.00</td>\n",
              "      <td>284807.00</td>\n",
              "      <td>284807.00</td>\n",
              "      <td>284807.00</td>\n",
              "      <td>284807.00</td>\n",
              "      <td>284807.00</td>\n",
              "      <td>284807.00</td>\n",
              "      <td>284807.00</td>\n",
              "      <td>284807.00</td>\n",
              "    </tr>\n",
              "    <tr>\n",
              "      <th>mean</th>\n",
              "      <td>94813.86</td>\n",
              "      <td>0.00</td>\n",
              "      <td>0.00</td>\n",
              "      <td>-0.00</td>\n",
              "      <td>0.00</td>\n",
              "      <td>0.00</td>\n",
              "      <td>0.00</td>\n",
              "      <td>-0.00</td>\n",
              "      <td>0.00</td>\n",
              "      <td>-0.00</td>\n",
              "      <td>...</td>\n",
              "      <td>0.00</td>\n",
              "      <td>-0.00</td>\n",
              "      <td>0.00</td>\n",
              "      <td>0.00</td>\n",
              "      <td>0.00</td>\n",
              "      <td>0.00</td>\n",
              "      <td>-0.00</td>\n",
              "      <td>-0.00</td>\n",
              "      <td>88.35</td>\n",
              "      <td>0.00</td>\n",
              "    </tr>\n",
              "    <tr>\n",
              "      <th>std</th>\n",
              "      <td>47488.15</td>\n",
              "      <td>1.96</td>\n",
              "      <td>1.65</td>\n",
              "      <td>1.52</td>\n",
              "      <td>1.42</td>\n",
              "      <td>1.38</td>\n",
              "      <td>1.33</td>\n",
              "      <td>1.24</td>\n",
              "      <td>1.19</td>\n",
              "      <td>1.10</td>\n",
              "      <td>...</td>\n",
              "      <td>0.73</td>\n",
              "      <td>0.73</td>\n",
              "      <td>0.62</td>\n",
              "      <td>0.61</td>\n",
              "      <td>0.52</td>\n",
              "      <td>0.48</td>\n",
              "      <td>0.40</td>\n",
              "      <td>0.33</td>\n",
              "      <td>250.12</td>\n",
              "      <td>0.04</td>\n",
              "    </tr>\n",
              "    <tr>\n",
              "      <th>min</th>\n",
              "      <td>0.00</td>\n",
              "      <td>-56.41</td>\n",
              "      <td>-72.72</td>\n",
              "      <td>-48.33</td>\n",
              "      <td>-5.68</td>\n",
              "      <td>-113.74</td>\n",
              "      <td>-26.16</td>\n",
              "      <td>-43.56</td>\n",
              "      <td>-73.22</td>\n",
              "      <td>-13.43</td>\n",
              "      <td>...</td>\n",
              "      <td>-34.83</td>\n",
              "      <td>-10.93</td>\n",
              "      <td>-44.81</td>\n",
              "      <td>-2.84</td>\n",
              "      <td>-10.30</td>\n",
              "      <td>-2.60</td>\n",
              "      <td>-22.57</td>\n",
              "      <td>-15.43</td>\n",
              "      <td>0.00</td>\n",
              "      <td>0.00</td>\n",
              "    </tr>\n",
              "    <tr>\n",
              "      <th>25%</th>\n",
              "      <td>54201.50</td>\n",
              "      <td>-0.92</td>\n",
              "      <td>-0.60</td>\n",
              "      <td>-0.89</td>\n",
              "      <td>-0.85</td>\n",
              "      <td>-0.69</td>\n",
              "      <td>-0.77</td>\n",
              "      <td>-0.55</td>\n",
              "      <td>-0.21</td>\n",
              "      <td>-0.64</td>\n",
              "      <td>...</td>\n",
              "      <td>-0.23</td>\n",
              "      <td>-0.54</td>\n",
              "      <td>-0.16</td>\n",
              "      <td>-0.35</td>\n",
              "      <td>-0.32</td>\n",
              "      <td>-0.33</td>\n",
              "      <td>-0.07</td>\n",
              "      <td>-0.05</td>\n",
              "      <td>5.60</td>\n",
              "      <td>0.00</td>\n",
              "    </tr>\n",
              "    <tr>\n",
              "      <th>50%</th>\n",
              "      <td>84692.00</td>\n",
              "      <td>0.02</td>\n",
              "      <td>0.07</td>\n",
              "      <td>0.18</td>\n",
              "      <td>-0.02</td>\n",
              "      <td>-0.05</td>\n",
              "      <td>-0.27</td>\n",
              "      <td>0.04</td>\n",
              "      <td>0.02</td>\n",
              "      <td>-0.05</td>\n",
              "      <td>...</td>\n",
              "      <td>-0.03</td>\n",
              "      <td>0.01</td>\n",
              "      <td>-0.01</td>\n",
              "      <td>0.04</td>\n",
              "      <td>0.02</td>\n",
              "      <td>-0.05</td>\n",
              "      <td>0.00</td>\n",
              "      <td>0.01</td>\n",
              "      <td>22.00</td>\n",
              "      <td>0.00</td>\n",
              "    </tr>\n",
              "    <tr>\n",
              "      <th>75%</th>\n",
              "      <td>139320.50</td>\n",
              "      <td>1.32</td>\n",
              "      <td>0.80</td>\n",
              "      <td>1.03</td>\n",
              "      <td>0.74</td>\n",
              "      <td>0.61</td>\n",
              "      <td>0.40</td>\n",
              "      <td>0.57</td>\n",
              "      <td>0.33</td>\n",
              "      <td>0.60</td>\n",
              "      <td>...</td>\n",
              "      <td>0.19</td>\n",
              "      <td>0.53</td>\n",
              "      <td>0.15</td>\n",
              "      <td>0.44</td>\n",
              "      <td>0.35</td>\n",
              "      <td>0.24</td>\n",
              "      <td>0.09</td>\n",
              "      <td>0.08</td>\n",
              "      <td>77.16</td>\n",
              "      <td>0.00</td>\n",
              "    </tr>\n",
              "    <tr>\n",
              "      <th>max</th>\n",
              "      <td>172792.00</td>\n",
              "      <td>2.45</td>\n",
              "      <td>22.06</td>\n",
              "      <td>9.38</td>\n",
              "      <td>16.88</td>\n",
              "      <td>34.80</td>\n",
              "      <td>73.30</td>\n",
              "      <td>120.59</td>\n",
              "      <td>20.01</td>\n",
              "      <td>15.59</td>\n",
              "      <td>...</td>\n",
              "      <td>27.20</td>\n",
              "      <td>10.50</td>\n",
              "      <td>22.53</td>\n",
              "      <td>4.58</td>\n",
              "      <td>7.52</td>\n",
              "      <td>3.52</td>\n",
              "      <td>31.61</td>\n",
              "      <td>33.85</td>\n",
              "      <td>25691.16</td>\n",
              "      <td>1.00</td>\n",
              "    </tr>\n",
              "  </tbody>\n",
              "</table>\n",
              "<p>8 rows × 31 columns</p>\n",
              "</div>\n",
              "      <button class=\"colab-df-convert\" onclick=\"convertToInteractive('df-473f77c7-b29c-4a40-a825-7cc780242b29')\"\n",
              "              title=\"Convert this dataframe to an interactive table.\"\n",
              "              style=\"display:none;\">\n",
              "        \n",
              "  <svg xmlns=\"http://www.w3.org/2000/svg\" height=\"24px\"viewBox=\"0 0 24 24\"\n",
              "       width=\"24px\">\n",
              "    <path d=\"M0 0h24v24H0V0z\" fill=\"none\"/>\n",
              "    <path d=\"M18.56 5.44l.94 2.06.94-2.06 2.06-.94-2.06-.94-.94-2.06-.94 2.06-2.06.94zm-11 1L8.5 8.5l.94-2.06 2.06-.94-2.06-.94L8.5 2.5l-.94 2.06-2.06.94zm10 10l.94 2.06.94-2.06 2.06-.94-2.06-.94-.94-2.06-.94 2.06-2.06.94z\"/><path d=\"M17.41 7.96l-1.37-1.37c-.4-.4-.92-.59-1.43-.59-.52 0-1.04.2-1.43.59L10.3 9.45l-7.72 7.72c-.78.78-.78 2.05 0 2.83L4 21.41c.39.39.9.59 1.41.59.51 0 1.02-.2 1.41-.59l7.78-7.78 2.81-2.81c.8-.78.8-2.07 0-2.86zM5.41 20L4 18.59l7.72-7.72 1.47 1.35L5.41 20z\"/>\n",
              "  </svg>\n",
              "      </button>\n",
              "      \n",
              "  <style>\n",
              "    .colab-df-container {\n",
              "      display:flex;\n",
              "      flex-wrap:wrap;\n",
              "      gap: 12px;\n",
              "    }\n",
              "\n",
              "    .colab-df-convert {\n",
              "      background-color: #E8F0FE;\n",
              "      border: none;\n",
              "      border-radius: 50%;\n",
              "      cursor: pointer;\n",
              "      display: none;\n",
              "      fill: #1967D2;\n",
              "      height: 32px;\n",
              "      padding: 0 0 0 0;\n",
              "      width: 32px;\n",
              "    }\n",
              "\n",
              "    .colab-df-convert:hover {\n",
              "      background-color: #E2EBFA;\n",
              "      box-shadow: 0px 1px 2px rgba(60, 64, 67, 0.3), 0px 1px 3px 1px rgba(60, 64, 67, 0.15);\n",
              "      fill: #174EA6;\n",
              "    }\n",
              "\n",
              "    [theme=dark] .colab-df-convert {\n",
              "      background-color: #3B4455;\n",
              "      fill: #D2E3FC;\n",
              "    }\n",
              "\n",
              "    [theme=dark] .colab-df-convert:hover {\n",
              "      background-color: #434B5C;\n",
              "      box-shadow: 0px 1px 3px 1px rgba(0, 0, 0, 0.15);\n",
              "      filter: drop-shadow(0px 1px 2px rgba(0, 0, 0, 0.3));\n",
              "      fill: #FFFFFF;\n",
              "    }\n",
              "  </style>\n",
              "\n",
              "      <script>\n",
              "        const buttonEl =\n",
              "          document.querySelector('#df-473f77c7-b29c-4a40-a825-7cc780242b29 button.colab-df-convert');\n",
              "        buttonEl.style.display =\n",
              "          google.colab.kernel.accessAllowed ? 'block' : 'none';\n",
              "\n",
              "        async function convertToInteractive(key) {\n",
              "          const element = document.querySelector('#df-473f77c7-b29c-4a40-a825-7cc780242b29');\n",
              "          const dataTable =\n",
              "            await google.colab.kernel.invokeFunction('convertToInteractive',\n",
              "                                                     [key], {});\n",
              "          if (!dataTable) return;\n",
              "\n",
              "          const docLinkHtml = 'Like what you see? Visit the ' +\n",
              "            '<a target=\"_blank\" href=https://colab.research.google.com/notebooks/data_table.ipynb>data table notebook</a>'\n",
              "            + ' to learn more about interactive tables.';\n",
              "          element.innerHTML = '';\n",
              "          dataTable['output_type'] = 'display_data';\n",
              "          await google.colab.output.renderOutput(dataTable, element);\n",
              "          const docLink = document.createElement('div');\n",
              "          docLink.innerHTML = docLinkHtml;\n",
              "          element.appendChild(docLink);\n",
              "        }\n",
              "      </script>\n",
              "    </div>\n",
              "  </div>\n",
              "  "
            ]
          },
          "metadata": {},
          "execution_count": 119
        }
      ]
    },
    {
      "cell_type": "code",
      "source": [
        "data.describe().round(2).style.background_gradient()"
      ],
      "metadata": {
        "colab": {
          "base_uri": "https://localhost:8080/",
          "height": 320
        },
        "id": "Ox4QG0u7YK6B",
        "outputId": "51c72aba-d631-4cff-8297-55ca35d0480c"
      },
      "execution_count": null,
      "outputs": [
        {
          "output_type": "execute_result",
          "data": {
            "text/plain": [
              "<pandas.io.formats.style.Styler at 0x7f5cc0398950>"
            ],
            "text/html": [
              "<style type=\"text/css\">\n",
              "#T_df6cf_row0_col0, #T_df6cf_row0_col1, #T_df6cf_row0_col2, #T_df6cf_row0_col3, #T_df6cf_row0_col4, #T_df6cf_row0_col5, #T_df6cf_row0_col6, #T_df6cf_row0_col7, #T_df6cf_row0_col8, #T_df6cf_row0_col9, #T_df6cf_row0_col10, #T_df6cf_row0_col11, #T_df6cf_row0_col12, #T_df6cf_row0_col13, #T_df6cf_row0_col14, #T_df6cf_row0_col15, #T_df6cf_row0_col16, #T_df6cf_row0_col17, #T_df6cf_row0_col18, #T_df6cf_row0_col19, #T_df6cf_row0_col20, #T_df6cf_row0_col21, #T_df6cf_row0_col22, #T_df6cf_row0_col23, #T_df6cf_row0_col24, #T_df6cf_row0_col25, #T_df6cf_row0_col26, #T_df6cf_row0_col27, #T_df6cf_row0_col28, #T_df6cf_row0_col29, #T_df6cf_row0_col30 {\n",
              "  background-color: #023858;\n",
              "  color: #f1f1f1;\n",
              "}\n",
              "#T_df6cf_row1_col0 {\n",
              "  background-color: #b4c4df;\n",
              "  color: #000000;\n",
              "}\n",
              "#T_df6cf_row1_col1, #T_df6cf_row1_col2, #T_df6cf_row1_col3, #T_df6cf_row1_col4, #T_df6cf_row1_col5, #T_df6cf_row1_col6, #T_df6cf_row1_col7, #T_df6cf_row1_col8, #T_df6cf_row1_col9, #T_df6cf_row1_col10, #T_df6cf_row1_col11, #T_df6cf_row1_col12, #T_df6cf_row1_col13, #T_df6cf_row1_col14, #T_df6cf_row1_col15, #T_df6cf_row1_col16, #T_df6cf_row1_col17, #T_df6cf_row1_col18, #T_df6cf_row1_col19, #T_df6cf_row1_col20, #T_df6cf_row1_col21, #T_df6cf_row1_col22, #T_df6cf_row1_col23, #T_df6cf_row1_col24, #T_df6cf_row1_col25, #T_df6cf_row1_col26, #T_df6cf_row1_col27, #T_df6cf_row1_col28, #T_df6cf_row1_col29, #T_df6cf_row1_col30, #T_df6cf_row2_col1, #T_df6cf_row2_col2, #T_df6cf_row2_col3, #T_df6cf_row2_col4, #T_df6cf_row2_col5, #T_df6cf_row2_col6, #T_df6cf_row2_col7, #T_df6cf_row2_col8, #T_df6cf_row2_col9, #T_df6cf_row2_col10, #T_df6cf_row2_col11, #T_df6cf_row2_col12, #T_df6cf_row2_col13, #T_df6cf_row2_col14, #T_df6cf_row2_col15, #T_df6cf_row2_col16, #T_df6cf_row2_col17, #T_df6cf_row2_col18, #T_df6cf_row2_col19, #T_df6cf_row2_col20, #T_df6cf_row2_col21, #T_df6cf_row2_col22, #T_df6cf_row2_col23, #T_df6cf_row2_col24, #T_df6cf_row2_col25, #T_df6cf_row2_col26, #T_df6cf_row2_col27, #T_df6cf_row2_col28, #T_df6cf_row2_col29, #T_df6cf_row2_col30, #T_df6cf_row3_col0, #T_df6cf_row3_col1, #T_df6cf_row3_col2, #T_df6cf_row3_col3, #T_df6cf_row3_col4, #T_df6cf_row3_col5, #T_df6cf_row3_col6, #T_df6cf_row3_col7, #T_df6cf_row3_col8, #T_df6cf_row3_col9, #T_df6cf_row3_col10, #T_df6cf_row3_col11, #T_df6cf_row3_col12, #T_df6cf_row3_col13, #T_df6cf_row3_col14, #T_df6cf_row3_col15, #T_df6cf_row3_col16, #T_df6cf_row3_col17, #T_df6cf_row3_col18, #T_df6cf_row3_col19, #T_df6cf_row3_col20, #T_df6cf_row3_col21, #T_df6cf_row3_col22, #T_df6cf_row3_col23, #T_df6cf_row3_col24, #T_df6cf_row3_col25, #T_df6cf_row3_col26, #T_df6cf_row3_col27, #T_df6cf_row3_col28, #T_df6cf_row3_col29, #T_df6cf_row3_col30, #T_df6cf_row4_col1, #T_df6cf_row4_col2, #T_df6cf_row4_col3, #T_df6cf_row4_col4, #T_df6cf_row4_col5, #T_df6cf_row4_col6, #T_df6cf_row4_col7, #T_df6cf_row4_col8, #T_df6cf_row4_col9, #T_df6cf_row4_col10, #T_df6cf_row4_col11, #T_df6cf_row4_col12, #T_df6cf_row4_col13, #T_df6cf_row4_col14, #T_df6cf_row4_col15, #T_df6cf_row4_col16, #T_df6cf_row4_col17, #T_df6cf_row4_col18, #T_df6cf_row4_col19, #T_df6cf_row4_col20, #T_df6cf_row4_col21, #T_df6cf_row4_col22, #T_df6cf_row4_col23, #T_df6cf_row4_col24, #T_df6cf_row4_col25, #T_df6cf_row4_col26, #T_df6cf_row4_col27, #T_df6cf_row4_col28, #T_df6cf_row4_col29, #T_df6cf_row4_col30, #T_df6cf_row5_col1, #T_df6cf_row5_col2, #T_df6cf_row5_col3, #T_df6cf_row5_col4, #T_df6cf_row5_col5, #T_df6cf_row5_col6, #T_df6cf_row5_col7, #T_df6cf_row5_col8, #T_df6cf_row5_col9, #T_df6cf_row5_col10, #T_df6cf_row5_col11, #T_df6cf_row5_col12, #T_df6cf_row5_col13, #T_df6cf_row5_col14, #T_df6cf_row5_col15, #T_df6cf_row5_col16, #T_df6cf_row5_col17, #T_df6cf_row5_col18, #T_df6cf_row5_col19, #T_df6cf_row5_col20, #T_df6cf_row5_col21, #T_df6cf_row5_col22, #T_df6cf_row5_col23, #T_df6cf_row5_col24, #T_df6cf_row5_col25, #T_df6cf_row5_col26, #T_df6cf_row5_col27, #T_df6cf_row5_col28, #T_df6cf_row5_col29, #T_df6cf_row5_col30, #T_df6cf_row6_col1, #T_df6cf_row6_col2, #T_df6cf_row6_col3, #T_df6cf_row6_col4, #T_df6cf_row6_col5, #T_df6cf_row6_col6, #T_df6cf_row6_col7, #T_df6cf_row6_col8, #T_df6cf_row6_col9, #T_df6cf_row6_col10, #T_df6cf_row6_col11, #T_df6cf_row6_col12, #T_df6cf_row6_col13, #T_df6cf_row6_col14, #T_df6cf_row6_col15, #T_df6cf_row6_col16, #T_df6cf_row6_col17, #T_df6cf_row6_col18, #T_df6cf_row6_col19, #T_df6cf_row6_col20, #T_df6cf_row6_col21, #T_df6cf_row6_col22, #T_df6cf_row6_col23, #T_df6cf_row6_col24, #T_df6cf_row6_col25, #T_df6cf_row6_col26, #T_df6cf_row6_col27, #T_df6cf_row6_col28, #T_df6cf_row6_col29, #T_df6cf_row6_col30, #T_df6cf_row7_col1, #T_df6cf_row7_col2, #T_df6cf_row7_col3, #T_df6cf_row7_col4, #T_df6cf_row7_col5, #T_df6cf_row7_col6, #T_df6cf_row7_col7, #T_df6cf_row7_col8, #T_df6cf_row7_col9, #T_df6cf_row7_col10, #T_df6cf_row7_col11, #T_df6cf_row7_col12, #T_df6cf_row7_col13, #T_df6cf_row7_col14, #T_df6cf_row7_col15, #T_df6cf_row7_col16, #T_df6cf_row7_col17, #T_df6cf_row7_col18, #T_df6cf_row7_col19, #T_df6cf_row7_col20, #T_df6cf_row7_col21, #T_df6cf_row7_col22, #T_df6cf_row7_col23, #T_df6cf_row7_col24, #T_df6cf_row7_col25, #T_df6cf_row7_col26, #T_df6cf_row7_col27, #T_df6cf_row7_col28, #T_df6cf_row7_col30 {\n",
              "  background-color: #fff7fb;\n",
              "  color: #000000;\n",
              "}\n",
              "#T_df6cf_row2_col0 {\n",
              "  background-color: #e3e0ee;\n",
              "  color: #000000;\n",
              "}\n",
              "#T_df6cf_row4_col0 {\n",
              "  background-color: #dedcec;\n",
              "  color: #000000;\n",
              "}\n",
              "#T_df6cf_row5_col0 {\n",
              "  background-color: #c0c9e2;\n",
              "  color: #000000;\n",
              "}\n",
              "#T_df6cf_row6_col0 {\n",
              "  background-color: #78abd0;\n",
              "  color: #f1f1f1;\n",
              "}\n",
              "#T_df6cf_row7_col0 {\n",
              "  background-color: #3f93c2;\n",
              "  color: #f1f1f1;\n",
              "}\n",
              "#T_df6cf_row7_col29 {\n",
              "  background-color: #f1ebf5;\n",
              "  color: #000000;\n",
              "}\n",
              "</style>\n",
              "<table id=\"T_df6cf_\" class=\"dataframe\">\n",
              "  <thead>\n",
              "    <tr>\n",
              "      <th class=\"blank level0\" >&nbsp;</th>\n",
              "      <th class=\"col_heading level0 col0\" >Time</th>\n",
              "      <th class=\"col_heading level0 col1\" >V1</th>\n",
              "      <th class=\"col_heading level0 col2\" >V2</th>\n",
              "      <th class=\"col_heading level0 col3\" >V3</th>\n",
              "      <th class=\"col_heading level0 col4\" >V4</th>\n",
              "      <th class=\"col_heading level0 col5\" >V5</th>\n",
              "      <th class=\"col_heading level0 col6\" >V6</th>\n",
              "      <th class=\"col_heading level0 col7\" >V7</th>\n",
              "      <th class=\"col_heading level0 col8\" >V8</th>\n",
              "      <th class=\"col_heading level0 col9\" >V9</th>\n",
              "      <th class=\"col_heading level0 col10\" >V10</th>\n",
              "      <th class=\"col_heading level0 col11\" >V11</th>\n",
              "      <th class=\"col_heading level0 col12\" >V12</th>\n",
              "      <th class=\"col_heading level0 col13\" >V13</th>\n",
              "      <th class=\"col_heading level0 col14\" >V14</th>\n",
              "      <th class=\"col_heading level0 col15\" >V15</th>\n",
              "      <th class=\"col_heading level0 col16\" >V16</th>\n",
              "      <th class=\"col_heading level0 col17\" >V17</th>\n",
              "      <th class=\"col_heading level0 col18\" >V18</th>\n",
              "      <th class=\"col_heading level0 col19\" >V19</th>\n",
              "      <th class=\"col_heading level0 col20\" >V20</th>\n",
              "      <th class=\"col_heading level0 col21\" >V21</th>\n",
              "      <th class=\"col_heading level0 col22\" >V22</th>\n",
              "      <th class=\"col_heading level0 col23\" >V23</th>\n",
              "      <th class=\"col_heading level0 col24\" >V24</th>\n",
              "      <th class=\"col_heading level0 col25\" >V25</th>\n",
              "      <th class=\"col_heading level0 col26\" >V26</th>\n",
              "      <th class=\"col_heading level0 col27\" >V27</th>\n",
              "      <th class=\"col_heading level0 col28\" >V28</th>\n",
              "      <th class=\"col_heading level0 col29\" >Amount</th>\n",
              "      <th class=\"col_heading level0 col30\" >Class</th>\n",
              "    </tr>\n",
              "  </thead>\n",
              "  <tbody>\n",
              "    <tr>\n",
              "      <th id=\"T_df6cf_level0_row0\" class=\"row_heading level0 row0\" >count</th>\n",
              "      <td id=\"T_df6cf_row0_col0\" class=\"data row0 col0\" >284807.000000</td>\n",
              "      <td id=\"T_df6cf_row0_col1\" class=\"data row0 col1\" >284807.000000</td>\n",
              "      <td id=\"T_df6cf_row0_col2\" class=\"data row0 col2\" >284807.000000</td>\n",
              "      <td id=\"T_df6cf_row0_col3\" class=\"data row0 col3\" >284807.000000</td>\n",
              "      <td id=\"T_df6cf_row0_col4\" class=\"data row0 col4\" >284807.000000</td>\n",
              "      <td id=\"T_df6cf_row0_col5\" class=\"data row0 col5\" >284807.000000</td>\n",
              "      <td id=\"T_df6cf_row0_col6\" class=\"data row0 col6\" >284807.000000</td>\n",
              "      <td id=\"T_df6cf_row0_col7\" class=\"data row0 col7\" >284807.000000</td>\n",
              "      <td id=\"T_df6cf_row0_col8\" class=\"data row0 col8\" >284807.000000</td>\n",
              "      <td id=\"T_df6cf_row0_col9\" class=\"data row0 col9\" >284807.000000</td>\n",
              "      <td id=\"T_df6cf_row0_col10\" class=\"data row0 col10\" >284807.000000</td>\n",
              "      <td id=\"T_df6cf_row0_col11\" class=\"data row0 col11\" >284807.000000</td>\n",
              "      <td id=\"T_df6cf_row0_col12\" class=\"data row0 col12\" >284807.000000</td>\n",
              "      <td id=\"T_df6cf_row0_col13\" class=\"data row0 col13\" >284807.000000</td>\n",
              "      <td id=\"T_df6cf_row0_col14\" class=\"data row0 col14\" >284807.000000</td>\n",
              "      <td id=\"T_df6cf_row0_col15\" class=\"data row0 col15\" >284807.000000</td>\n",
              "      <td id=\"T_df6cf_row0_col16\" class=\"data row0 col16\" >284807.000000</td>\n",
              "      <td id=\"T_df6cf_row0_col17\" class=\"data row0 col17\" >284807.000000</td>\n",
              "      <td id=\"T_df6cf_row0_col18\" class=\"data row0 col18\" >284807.000000</td>\n",
              "      <td id=\"T_df6cf_row0_col19\" class=\"data row0 col19\" >284807.000000</td>\n",
              "      <td id=\"T_df6cf_row0_col20\" class=\"data row0 col20\" >284807.000000</td>\n",
              "      <td id=\"T_df6cf_row0_col21\" class=\"data row0 col21\" >284807.000000</td>\n",
              "      <td id=\"T_df6cf_row0_col22\" class=\"data row0 col22\" >284807.000000</td>\n",
              "      <td id=\"T_df6cf_row0_col23\" class=\"data row0 col23\" >284807.000000</td>\n",
              "      <td id=\"T_df6cf_row0_col24\" class=\"data row0 col24\" >284807.000000</td>\n",
              "      <td id=\"T_df6cf_row0_col25\" class=\"data row0 col25\" >284807.000000</td>\n",
              "      <td id=\"T_df6cf_row0_col26\" class=\"data row0 col26\" >284807.000000</td>\n",
              "      <td id=\"T_df6cf_row0_col27\" class=\"data row0 col27\" >284807.000000</td>\n",
              "      <td id=\"T_df6cf_row0_col28\" class=\"data row0 col28\" >284807.000000</td>\n",
              "      <td id=\"T_df6cf_row0_col29\" class=\"data row0 col29\" >284807.000000</td>\n",
              "      <td id=\"T_df6cf_row0_col30\" class=\"data row0 col30\" >284807.000000</td>\n",
              "    </tr>\n",
              "    <tr>\n",
              "      <th id=\"T_df6cf_level0_row1\" class=\"row_heading level0 row1\" >mean</th>\n",
              "      <td id=\"T_df6cf_row1_col0\" class=\"data row1 col0\" >94813.860000</td>\n",
              "      <td id=\"T_df6cf_row1_col1\" class=\"data row1 col1\" >0.000000</td>\n",
              "      <td id=\"T_df6cf_row1_col2\" class=\"data row1 col2\" >0.000000</td>\n",
              "      <td id=\"T_df6cf_row1_col3\" class=\"data row1 col3\" >-0.000000</td>\n",
              "      <td id=\"T_df6cf_row1_col4\" class=\"data row1 col4\" >0.000000</td>\n",
              "      <td id=\"T_df6cf_row1_col5\" class=\"data row1 col5\" >0.000000</td>\n",
              "      <td id=\"T_df6cf_row1_col6\" class=\"data row1 col6\" >0.000000</td>\n",
              "      <td id=\"T_df6cf_row1_col7\" class=\"data row1 col7\" >-0.000000</td>\n",
              "      <td id=\"T_df6cf_row1_col8\" class=\"data row1 col8\" >0.000000</td>\n",
              "      <td id=\"T_df6cf_row1_col9\" class=\"data row1 col9\" >-0.000000</td>\n",
              "      <td id=\"T_df6cf_row1_col10\" class=\"data row1 col10\" >0.000000</td>\n",
              "      <td id=\"T_df6cf_row1_col11\" class=\"data row1 col11\" >0.000000</td>\n",
              "      <td id=\"T_df6cf_row1_col12\" class=\"data row1 col12\" >-0.000000</td>\n",
              "      <td id=\"T_df6cf_row1_col13\" class=\"data row1 col13\" >0.000000</td>\n",
              "      <td id=\"T_df6cf_row1_col14\" class=\"data row1 col14\" >0.000000</td>\n",
              "      <td id=\"T_df6cf_row1_col15\" class=\"data row1 col15\" >0.000000</td>\n",
              "      <td id=\"T_df6cf_row1_col16\" class=\"data row1 col16\" >0.000000</td>\n",
              "      <td id=\"T_df6cf_row1_col17\" class=\"data row1 col17\" >-0.000000</td>\n",
              "      <td id=\"T_df6cf_row1_col18\" class=\"data row1 col18\" >0.000000</td>\n",
              "      <td id=\"T_df6cf_row1_col19\" class=\"data row1 col19\" >0.000000</td>\n",
              "      <td id=\"T_df6cf_row1_col20\" class=\"data row1 col20\" >0.000000</td>\n",
              "      <td id=\"T_df6cf_row1_col21\" class=\"data row1 col21\" >0.000000</td>\n",
              "      <td id=\"T_df6cf_row1_col22\" class=\"data row1 col22\" >-0.000000</td>\n",
              "      <td id=\"T_df6cf_row1_col23\" class=\"data row1 col23\" >0.000000</td>\n",
              "      <td id=\"T_df6cf_row1_col24\" class=\"data row1 col24\" >0.000000</td>\n",
              "      <td id=\"T_df6cf_row1_col25\" class=\"data row1 col25\" >0.000000</td>\n",
              "      <td id=\"T_df6cf_row1_col26\" class=\"data row1 col26\" >0.000000</td>\n",
              "      <td id=\"T_df6cf_row1_col27\" class=\"data row1 col27\" >-0.000000</td>\n",
              "      <td id=\"T_df6cf_row1_col28\" class=\"data row1 col28\" >-0.000000</td>\n",
              "      <td id=\"T_df6cf_row1_col29\" class=\"data row1 col29\" >88.350000</td>\n",
              "      <td id=\"T_df6cf_row1_col30\" class=\"data row1 col30\" >0.000000</td>\n",
              "    </tr>\n",
              "    <tr>\n",
              "      <th id=\"T_df6cf_level0_row2\" class=\"row_heading level0 row2\" >std</th>\n",
              "      <td id=\"T_df6cf_row2_col0\" class=\"data row2 col0\" >47488.150000</td>\n",
              "      <td id=\"T_df6cf_row2_col1\" class=\"data row2 col1\" >1.960000</td>\n",
              "      <td id=\"T_df6cf_row2_col2\" class=\"data row2 col2\" >1.650000</td>\n",
              "      <td id=\"T_df6cf_row2_col3\" class=\"data row2 col3\" >1.520000</td>\n",
              "      <td id=\"T_df6cf_row2_col4\" class=\"data row2 col4\" >1.420000</td>\n",
              "      <td id=\"T_df6cf_row2_col5\" class=\"data row2 col5\" >1.380000</td>\n",
              "      <td id=\"T_df6cf_row2_col6\" class=\"data row2 col6\" >1.330000</td>\n",
              "      <td id=\"T_df6cf_row2_col7\" class=\"data row2 col7\" >1.240000</td>\n",
              "      <td id=\"T_df6cf_row2_col8\" class=\"data row2 col8\" >1.190000</td>\n",
              "      <td id=\"T_df6cf_row2_col9\" class=\"data row2 col9\" >1.100000</td>\n",
              "      <td id=\"T_df6cf_row2_col10\" class=\"data row2 col10\" >1.090000</td>\n",
              "      <td id=\"T_df6cf_row2_col11\" class=\"data row2 col11\" >1.020000</td>\n",
              "      <td id=\"T_df6cf_row2_col12\" class=\"data row2 col12\" >1.000000</td>\n",
              "      <td id=\"T_df6cf_row2_col13\" class=\"data row2 col13\" >1.000000</td>\n",
              "      <td id=\"T_df6cf_row2_col14\" class=\"data row2 col14\" >0.960000</td>\n",
              "      <td id=\"T_df6cf_row2_col15\" class=\"data row2 col15\" >0.920000</td>\n",
              "      <td id=\"T_df6cf_row2_col16\" class=\"data row2 col16\" >0.880000</td>\n",
              "      <td id=\"T_df6cf_row2_col17\" class=\"data row2 col17\" >0.850000</td>\n",
              "      <td id=\"T_df6cf_row2_col18\" class=\"data row2 col18\" >0.840000</td>\n",
              "      <td id=\"T_df6cf_row2_col19\" class=\"data row2 col19\" >0.810000</td>\n",
              "      <td id=\"T_df6cf_row2_col20\" class=\"data row2 col20\" >0.770000</td>\n",
              "      <td id=\"T_df6cf_row2_col21\" class=\"data row2 col21\" >0.730000</td>\n",
              "      <td id=\"T_df6cf_row2_col22\" class=\"data row2 col22\" >0.730000</td>\n",
              "      <td id=\"T_df6cf_row2_col23\" class=\"data row2 col23\" >0.620000</td>\n",
              "      <td id=\"T_df6cf_row2_col24\" class=\"data row2 col24\" >0.610000</td>\n",
              "      <td id=\"T_df6cf_row2_col25\" class=\"data row2 col25\" >0.520000</td>\n",
              "      <td id=\"T_df6cf_row2_col26\" class=\"data row2 col26\" >0.480000</td>\n",
              "      <td id=\"T_df6cf_row2_col27\" class=\"data row2 col27\" >0.400000</td>\n",
              "      <td id=\"T_df6cf_row2_col28\" class=\"data row2 col28\" >0.330000</td>\n",
              "      <td id=\"T_df6cf_row2_col29\" class=\"data row2 col29\" >250.120000</td>\n",
              "      <td id=\"T_df6cf_row2_col30\" class=\"data row2 col30\" >0.040000</td>\n",
              "    </tr>\n",
              "    <tr>\n",
              "      <th id=\"T_df6cf_level0_row3\" class=\"row_heading level0 row3\" >min</th>\n",
              "      <td id=\"T_df6cf_row3_col0\" class=\"data row3 col0\" >0.000000</td>\n",
              "      <td id=\"T_df6cf_row3_col1\" class=\"data row3 col1\" >-56.410000</td>\n",
              "      <td id=\"T_df6cf_row3_col2\" class=\"data row3 col2\" >-72.720000</td>\n",
              "      <td id=\"T_df6cf_row3_col3\" class=\"data row3 col3\" >-48.330000</td>\n",
              "      <td id=\"T_df6cf_row3_col4\" class=\"data row3 col4\" >-5.680000</td>\n",
              "      <td id=\"T_df6cf_row3_col5\" class=\"data row3 col5\" >-113.740000</td>\n",
              "      <td id=\"T_df6cf_row3_col6\" class=\"data row3 col6\" >-26.160000</td>\n",
              "      <td id=\"T_df6cf_row3_col7\" class=\"data row3 col7\" >-43.560000</td>\n",
              "      <td id=\"T_df6cf_row3_col8\" class=\"data row3 col8\" >-73.220000</td>\n",
              "      <td id=\"T_df6cf_row3_col9\" class=\"data row3 col9\" >-13.430000</td>\n",
              "      <td id=\"T_df6cf_row3_col10\" class=\"data row3 col10\" >-24.590000</td>\n",
              "      <td id=\"T_df6cf_row3_col11\" class=\"data row3 col11\" >-4.800000</td>\n",
              "      <td id=\"T_df6cf_row3_col12\" class=\"data row3 col12\" >-18.680000</td>\n",
              "      <td id=\"T_df6cf_row3_col13\" class=\"data row3 col13\" >-5.790000</td>\n",
              "      <td id=\"T_df6cf_row3_col14\" class=\"data row3 col14\" >-19.210000</td>\n",
              "      <td id=\"T_df6cf_row3_col15\" class=\"data row3 col15\" >-4.500000</td>\n",
              "      <td id=\"T_df6cf_row3_col16\" class=\"data row3 col16\" >-14.130000</td>\n",
              "      <td id=\"T_df6cf_row3_col17\" class=\"data row3 col17\" >-25.160000</td>\n",
              "      <td id=\"T_df6cf_row3_col18\" class=\"data row3 col18\" >-9.500000</td>\n",
              "      <td id=\"T_df6cf_row3_col19\" class=\"data row3 col19\" >-7.210000</td>\n",
              "      <td id=\"T_df6cf_row3_col20\" class=\"data row3 col20\" >-54.500000</td>\n",
              "      <td id=\"T_df6cf_row3_col21\" class=\"data row3 col21\" >-34.830000</td>\n",
              "      <td id=\"T_df6cf_row3_col22\" class=\"data row3 col22\" >-10.930000</td>\n",
              "      <td id=\"T_df6cf_row3_col23\" class=\"data row3 col23\" >-44.810000</td>\n",
              "      <td id=\"T_df6cf_row3_col24\" class=\"data row3 col24\" >-2.840000</td>\n",
              "      <td id=\"T_df6cf_row3_col25\" class=\"data row3 col25\" >-10.300000</td>\n",
              "      <td id=\"T_df6cf_row3_col26\" class=\"data row3 col26\" >-2.600000</td>\n",
              "      <td id=\"T_df6cf_row3_col27\" class=\"data row3 col27\" >-22.570000</td>\n",
              "      <td id=\"T_df6cf_row3_col28\" class=\"data row3 col28\" >-15.430000</td>\n",
              "      <td id=\"T_df6cf_row3_col29\" class=\"data row3 col29\" >0.000000</td>\n",
              "      <td id=\"T_df6cf_row3_col30\" class=\"data row3 col30\" >0.000000</td>\n",
              "    </tr>\n",
              "    <tr>\n",
              "      <th id=\"T_df6cf_level0_row4\" class=\"row_heading level0 row4\" >25%</th>\n",
              "      <td id=\"T_df6cf_row4_col0\" class=\"data row4 col0\" >54201.500000</td>\n",
              "      <td id=\"T_df6cf_row4_col1\" class=\"data row4 col1\" >-0.920000</td>\n",
              "      <td id=\"T_df6cf_row4_col2\" class=\"data row4 col2\" >-0.600000</td>\n",
              "      <td id=\"T_df6cf_row4_col3\" class=\"data row4 col3\" >-0.890000</td>\n",
              "      <td id=\"T_df6cf_row4_col4\" class=\"data row4 col4\" >-0.850000</td>\n",
              "      <td id=\"T_df6cf_row4_col5\" class=\"data row4 col5\" >-0.690000</td>\n",
              "      <td id=\"T_df6cf_row4_col6\" class=\"data row4 col6\" >-0.770000</td>\n",
              "      <td id=\"T_df6cf_row4_col7\" class=\"data row4 col7\" >-0.550000</td>\n",
              "      <td id=\"T_df6cf_row4_col8\" class=\"data row4 col8\" >-0.210000</td>\n",
              "      <td id=\"T_df6cf_row4_col9\" class=\"data row4 col9\" >-0.640000</td>\n",
              "      <td id=\"T_df6cf_row4_col10\" class=\"data row4 col10\" >-0.540000</td>\n",
              "      <td id=\"T_df6cf_row4_col11\" class=\"data row4 col11\" >-0.760000</td>\n",
              "      <td id=\"T_df6cf_row4_col12\" class=\"data row4 col12\" >-0.410000</td>\n",
              "      <td id=\"T_df6cf_row4_col13\" class=\"data row4 col13\" >-0.650000</td>\n",
              "      <td id=\"T_df6cf_row4_col14\" class=\"data row4 col14\" >-0.430000</td>\n",
              "      <td id=\"T_df6cf_row4_col15\" class=\"data row4 col15\" >-0.580000</td>\n",
              "      <td id=\"T_df6cf_row4_col16\" class=\"data row4 col16\" >-0.470000</td>\n",
              "      <td id=\"T_df6cf_row4_col17\" class=\"data row4 col17\" >-0.480000</td>\n",
              "      <td id=\"T_df6cf_row4_col18\" class=\"data row4 col18\" >-0.500000</td>\n",
              "      <td id=\"T_df6cf_row4_col19\" class=\"data row4 col19\" >-0.460000</td>\n",
              "      <td id=\"T_df6cf_row4_col20\" class=\"data row4 col20\" >-0.210000</td>\n",
              "      <td id=\"T_df6cf_row4_col21\" class=\"data row4 col21\" >-0.230000</td>\n",
              "      <td id=\"T_df6cf_row4_col22\" class=\"data row4 col22\" >-0.540000</td>\n",
              "      <td id=\"T_df6cf_row4_col23\" class=\"data row4 col23\" >-0.160000</td>\n",
              "      <td id=\"T_df6cf_row4_col24\" class=\"data row4 col24\" >-0.350000</td>\n",
              "      <td id=\"T_df6cf_row4_col25\" class=\"data row4 col25\" >-0.320000</td>\n",
              "      <td id=\"T_df6cf_row4_col26\" class=\"data row4 col26\" >-0.330000</td>\n",
              "      <td id=\"T_df6cf_row4_col27\" class=\"data row4 col27\" >-0.070000</td>\n",
              "      <td id=\"T_df6cf_row4_col28\" class=\"data row4 col28\" >-0.050000</td>\n",
              "      <td id=\"T_df6cf_row4_col29\" class=\"data row4 col29\" >5.600000</td>\n",
              "      <td id=\"T_df6cf_row4_col30\" class=\"data row4 col30\" >0.000000</td>\n",
              "    </tr>\n",
              "    <tr>\n",
              "      <th id=\"T_df6cf_level0_row5\" class=\"row_heading level0 row5\" >50%</th>\n",
              "      <td id=\"T_df6cf_row5_col0\" class=\"data row5 col0\" >84692.000000</td>\n",
              "      <td id=\"T_df6cf_row5_col1\" class=\"data row5 col1\" >0.020000</td>\n",
              "      <td id=\"T_df6cf_row5_col2\" class=\"data row5 col2\" >0.070000</td>\n",
              "      <td id=\"T_df6cf_row5_col3\" class=\"data row5 col3\" >0.180000</td>\n",
              "      <td id=\"T_df6cf_row5_col4\" class=\"data row5 col4\" >-0.020000</td>\n",
              "      <td id=\"T_df6cf_row5_col5\" class=\"data row5 col5\" >-0.050000</td>\n",
              "      <td id=\"T_df6cf_row5_col6\" class=\"data row5 col6\" >-0.270000</td>\n",
              "      <td id=\"T_df6cf_row5_col7\" class=\"data row5 col7\" >0.040000</td>\n",
              "      <td id=\"T_df6cf_row5_col8\" class=\"data row5 col8\" >0.020000</td>\n",
              "      <td id=\"T_df6cf_row5_col9\" class=\"data row5 col9\" >-0.050000</td>\n",
              "      <td id=\"T_df6cf_row5_col10\" class=\"data row5 col10\" >-0.090000</td>\n",
              "      <td id=\"T_df6cf_row5_col11\" class=\"data row5 col11\" >-0.030000</td>\n",
              "      <td id=\"T_df6cf_row5_col12\" class=\"data row5 col12\" >0.140000</td>\n",
              "      <td id=\"T_df6cf_row5_col13\" class=\"data row5 col13\" >-0.010000</td>\n",
              "      <td id=\"T_df6cf_row5_col14\" class=\"data row5 col14\" >0.050000</td>\n",
              "      <td id=\"T_df6cf_row5_col15\" class=\"data row5 col15\" >0.050000</td>\n",
              "      <td id=\"T_df6cf_row5_col16\" class=\"data row5 col16\" >0.070000</td>\n",
              "      <td id=\"T_df6cf_row5_col17\" class=\"data row5 col17\" >-0.070000</td>\n",
              "      <td id=\"T_df6cf_row5_col18\" class=\"data row5 col18\" >-0.000000</td>\n",
              "      <td id=\"T_df6cf_row5_col19\" class=\"data row5 col19\" >0.000000</td>\n",
              "      <td id=\"T_df6cf_row5_col20\" class=\"data row5 col20\" >-0.060000</td>\n",
              "      <td id=\"T_df6cf_row5_col21\" class=\"data row5 col21\" >-0.030000</td>\n",
              "      <td id=\"T_df6cf_row5_col22\" class=\"data row5 col22\" >0.010000</td>\n",
              "      <td id=\"T_df6cf_row5_col23\" class=\"data row5 col23\" >-0.010000</td>\n",
              "      <td id=\"T_df6cf_row5_col24\" class=\"data row5 col24\" >0.040000</td>\n",
              "      <td id=\"T_df6cf_row5_col25\" class=\"data row5 col25\" >0.020000</td>\n",
              "      <td id=\"T_df6cf_row5_col26\" class=\"data row5 col26\" >-0.050000</td>\n",
              "      <td id=\"T_df6cf_row5_col27\" class=\"data row5 col27\" >0.000000</td>\n",
              "      <td id=\"T_df6cf_row5_col28\" class=\"data row5 col28\" >0.010000</td>\n",
              "      <td id=\"T_df6cf_row5_col29\" class=\"data row5 col29\" >22.000000</td>\n",
              "      <td id=\"T_df6cf_row5_col30\" class=\"data row5 col30\" >0.000000</td>\n",
              "    </tr>\n",
              "    <tr>\n",
              "      <th id=\"T_df6cf_level0_row6\" class=\"row_heading level0 row6\" >75%</th>\n",
              "      <td id=\"T_df6cf_row6_col0\" class=\"data row6 col0\" >139320.500000</td>\n",
              "      <td id=\"T_df6cf_row6_col1\" class=\"data row6 col1\" >1.320000</td>\n",
              "      <td id=\"T_df6cf_row6_col2\" class=\"data row6 col2\" >0.800000</td>\n",
              "      <td id=\"T_df6cf_row6_col3\" class=\"data row6 col3\" >1.030000</td>\n",
              "      <td id=\"T_df6cf_row6_col4\" class=\"data row6 col4\" >0.740000</td>\n",
              "      <td id=\"T_df6cf_row6_col5\" class=\"data row6 col5\" >0.610000</td>\n",
              "      <td id=\"T_df6cf_row6_col6\" class=\"data row6 col6\" >0.400000</td>\n",
              "      <td id=\"T_df6cf_row6_col7\" class=\"data row6 col7\" >0.570000</td>\n",
              "      <td id=\"T_df6cf_row6_col8\" class=\"data row6 col8\" >0.330000</td>\n",
              "      <td id=\"T_df6cf_row6_col9\" class=\"data row6 col9\" >0.600000</td>\n",
              "      <td id=\"T_df6cf_row6_col10\" class=\"data row6 col10\" >0.450000</td>\n",
              "      <td id=\"T_df6cf_row6_col11\" class=\"data row6 col11\" >0.740000</td>\n",
              "      <td id=\"T_df6cf_row6_col12\" class=\"data row6 col12\" >0.620000</td>\n",
              "      <td id=\"T_df6cf_row6_col13\" class=\"data row6 col13\" >0.660000</td>\n",
              "      <td id=\"T_df6cf_row6_col14\" class=\"data row6 col14\" >0.490000</td>\n",
              "      <td id=\"T_df6cf_row6_col15\" class=\"data row6 col15\" >0.650000</td>\n",
              "      <td id=\"T_df6cf_row6_col16\" class=\"data row6 col16\" >0.520000</td>\n",
              "      <td id=\"T_df6cf_row6_col17\" class=\"data row6 col17\" >0.400000</td>\n",
              "      <td id=\"T_df6cf_row6_col18\" class=\"data row6 col18\" >0.500000</td>\n",
              "      <td id=\"T_df6cf_row6_col19\" class=\"data row6 col19\" >0.460000</td>\n",
              "      <td id=\"T_df6cf_row6_col20\" class=\"data row6 col20\" >0.130000</td>\n",
              "      <td id=\"T_df6cf_row6_col21\" class=\"data row6 col21\" >0.190000</td>\n",
              "      <td id=\"T_df6cf_row6_col22\" class=\"data row6 col22\" >0.530000</td>\n",
              "      <td id=\"T_df6cf_row6_col23\" class=\"data row6 col23\" >0.150000</td>\n",
              "      <td id=\"T_df6cf_row6_col24\" class=\"data row6 col24\" >0.440000</td>\n",
              "      <td id=\"T_df6cf_row6_col25\" class=\"data row6 col25\" >0.350000</td>\n",
              "      <td id=\"T_df6cf_row6_col26\" class=\"data row6 col26\" >0.240000</td>\n",
              "      <td id=\"T_df6cf_row6_col27\" class=\"data row6 col27\" >0.090000</td>\n",
              "      <td id=\"T_df6cf_row6_col28\" class=\"data row6 col28\" >0.080000</td>\n",
              "      <td id=\"T_df6cf_row6_col29\" class=\"data row6 col29\" >77.160000</td>\n",
              "      <td id=\"T_df6cf_row6_col30\" class=\"data row6 col30\" >0.000000</td>\n",
              "    </tr>\n",
              "    <tr>\n",
              "      <th id=\"T_df6cf_level0_row7\" class=\"row_heading level0 row7\" >max</th>\n",
              "      <td id=\"T_df6cf_row7_col0\" class=\"data row7 col0\" >172792.000000</td>\n",
              "      <td id=\"T_df6cf_row7_col1\" class=\"data row7 col1\" >2.450000</td>\n",
              "      <td id=\"T_df6cf_row7_col2\" class=\"data row7 col2\" >22.060000</td>\n",
              "      <td id=\"T_df6cf_row7_col3\" class=\"data row7 col3\" >9.380000</td>\n",
              "      <td id=\"T_df6cf_row7_col4\" class=\"data row7 col4\" >16.880000</td>\n",
              "      <td id=\"T_df6cf_row7_col5\" class=\"data row7 col5\" >34.800000</td>\n",
              "      <td id=\"T_df6cf_row7_col6\" class=\"data row7 col6\" >73.300000</td>\n",
              "      <td id=\"T_df6cf_row7_col7\" class=\"data row7 col7\" >120.590000</td>\n",
              "      <td id=\"T_df6cf_row7_col8\" class=\"data row7 col8\" >20.010000</td>\n",
              "      <td id=\"T_df6cf_row7_col9\" class=\"data row7 col9\" >15.590000</td>\n",
              "      <td id=\"T_df6cf_row7_col10\" class=\"data row7 col10\" >23.750000</td>\n",
              "      <td id=\"T_df6cf_row7_col11\" class=\"data row7 col11\" >12.020000</td>\n",
              "      <td id=\"T_df6cf_row7_col12\" class=\"data row7 col12\" >7.850000</td>\n",
              "      <td id=\"T_df6cf_row7_col13\" class=\"data row7 col13\" >7.130000</td>\n",
              "      <td id=\"T_df6cf_row7_col14\" class=\"data row7 col14\" >10.530000</td>\n",
              "      <td id=\"T_df6cf_row7_col15\" class=\"data row7 col15\" >8.880000</td>\n",
              "      <td id=\"T_df6cf_row7_col16\" class=\"data row7 col16\" >17.320000</td>\n",
              "      <td id=\"T_df6cf_row7_col17\" class=\"data row7 col17\" >9.250000</td>\n",
              "      <td id=\"T_df6cf_row7_col18\" class=\"data row7 col18\" >5.040000</td>\n",
              "      <td id=\"T_df6cf_row7_col19\" class=\"data row7 col19\" >5.590000</td>\n",
              "      <td id=\"T_df6cf_row7_col20\" class=\"data row7 col20\" >39.420000</td>\n",
              "      <td id=\"T_df6cf_row7_col21\" class=\"data row7 col21\" >27.200000</td>\n",
              "      <td id=\"T_df6cf_row7_col22\" class=\"data row7 col22\" >10.500000</td>\n",
              "      <td id=\"T_df6cf_row7_col23\" class=\"data row7 col23\" >22.530000</td>\n",
              "      <td id=\"T_df6cf_row7_col24\" class=\"data row7 col24\" >4.580000</td>\n",
              "      <td id=\"T_df6cf_row7_col25\" class=\"data row7 col25\" >7.520000</td>\n",
              "      <td id=\"T_df6cf_row7_col26\" class=\"data row7 col26\" >3.520000</td>\n",
              "      <td id=\"T_df6cf_row7_col27\" class=\"data row7 col27\" >31.610000</td>\n",
              "      <td id=\"T_df6cf_row7_col28\" class=\"data row7 col28\" >33.850000</td>\n",
              "      <td id=\"T_df6cf_row7_col29\" class=\"data row7 col29\" >25691.160000</td>\n",
              "      <td id=\"T_df6cf_row7_col30\" class=\"data row7 col30\" >1.000000</td>\n",
              "    </tr>\n",
              "  </tbody>\n",
              "</table>\n"
            ]
          },
          "metadata": {},
          "execution_count": 120
        }
      ]
    },
    {
      "cell_type": "code",
      "source": [
        "data.dtypes"
      ],
      "metadata": {
        "colab": {
          "base_uri": "https://localhost:8080/"
        },
        "id": "Bh3ZxFAAYYw-",
        "outputId": "7eaec024-b72e-4011-f9d3-88445d9c78a2"
      },
      "execution_count": null,
      "outputs": [
        {
          "output_type": "execute_result",
          "data": {
            "text/plain": [
              "Time      float64\n",
              "V1        float64\n",
              "V2        float64\n",
              "V3        float64\n",
              "V4        float64\n",
              "V5        float64\n",
              "V6        float64\n",
              "V7        float64\n",
              "V8        float64\n",
              "V9        float64\n",
              "V10       float64\n",
              "V11       float64\n",
              "V12       float64\n",
              "V13       float64\n",
              "V14       float64\n",
              "V15       float64\n",
              "V16       float64\n",
              "V17       float64\n",
              "V18       float64\n",
              "V19       float64\n",
              "V20       float64\n",
              "V21       float64\n",
              "V22       float64\n",
              "V23       float64\n",
              "V24       float64\n",
              "V25       float64\n",
              "V26       float64\n",
              "V27       float64\n",
              "V28       float64\n",
              "Amount    float64\n",
              "Class       int64\n",
              "dtype: object"
            ]
          },
          "metadata": {},
          "execution_count": 121
        }
      ]
    },
    {
      "cell_type": "code",
      "source": [
        "data.duplicated().sum()"
      ],
      "metadata": {
        "colab": {
          "base_uri": "https://localhost:8080/"
        },
        "id": "wU7TZ_BqYn4u",
        "outputId": "709db74c-924e-4d3c-bb19-9dd43fb04fac"
      },
      "execution_count": null,
      "outputs": [
        {
          "output_type": "execute_result",
          "data": {
            "text/plain": [
              "1081"
            ]
          },
          "metadata": {},
          "execution_count": 122
        }
      ]
    },
    {
      "cell_type": "code",
      "source": [
        "data.shape"
      ],
      "metadata": {
        "colab": {
          "base_uri": "https://localhost:8080/"
        },
        "id": "H49LOy3aYzDU",
        "outputId": "45968ccc-4d78-45bf-e81b-52f202ec9b7c"
      },
      "execution_count": null,
      "outputs": [
        {
          "output_type": "execute_result",
          "data": {
            "text/plain": [
              "(284807, 31)"
            ]
          },
          "metadata": {},
          "execution_count": 123
        }
      ]
    },
    {
      "cell_type": "code",
      "source": [
        "data.drop_duplicates(inplace=True)"
      ],
      "metadata": {
        "id": "xdh57XTSY6Cl"
      },
      "execution_count": null,
      "outputs": []
    },
    {
      "cell_type": "code",
      "source": [
        "data.shape"
      ],
      "metadata": {
        "colab": {
          "base_uri": "https://localhost:8080/"
        },
        "id": "xHASsDNgZClF",
        "outputId": "27aa8ab1-eaa2-44f3-9dd5-0f3058d93a6f"
      },
      "execution_count": null,
      "outputs": [
        {
          "output_type": "execute_result",
          "data": {
            "text/plain": [
              "(283726, 31)"
            ]
          },
          "metadata": {},
          "execution_count": 125
        }
      ]
    },
    {
      "cell_type": "code",
      "source": [
        "data.duplicated().sum()"
      ],
      "metadata": {
        "colab": {
          "base_uri": "https://localhost:8080/"
        },
        "id": "I-HL7QfIZD-i",
        "outputId": "1ec3bcf1-8658-4e9d-ee96-d693b46ec680"
      },
      "execution_count": null,
      "outputs": [
        {
          "output_type": "execute_result",
          "data": {
            "text/plain": [
              "0"
            ]
          },
          "metadata": {},
          "execution_count": 126
        }
      ]
    },
    {
      "cell_type": "code",
      "source": [
        "X = data.iloc[:,0:-1]\n"
      ],
      "metadata": {
        "id": "Qbk9nzunZHrD"
      },
      "execution_count": null,
      "outputs": []
    },
    {
      "cell_type": "code",
      "source": [
        "# y = data.loc[:,'Class']\n",
        "y = data.iloc[:,-1]"
      ],
      "metadata": {
        "id": "de0A75-AZzRM"
      },
      "execution_count": null,
      "outputs": []
    },
    {
      "cell_type": "code",
      "source": [
        "X.head()"
      ],
      "metadata": {
        "colab": {
          "base_uri": "https://localhost:8080/",
          "height": 299
        },
        "id": "JG-RItAUZ1-O",
        "outputId": "25afd74d-7997-43db-96cf-2abb36805bc3"
      },
      "execution_count": null,
      "outputs": [
        {
          "output_type": "execute_result",
          "data": {
            "text/plain": [
              "   Time        V1        V2        V3        V4        V5        V6        V7  \\\n",
              "0   0.0 -1.359807 -0.072781  2.536347  1.378155 -0.338321  0.462388  0.239599   \n",
              "1   0.0  1.191857  0.266151  0.166480  0.448154  0.060018 -0.082361 -0.078803   \n",
              "2   1.0 -1.358354 -1.340163  1.773209  0.379780 -0.503198  1.800499  0.791461   \n",
              "3   1.0 -0.966272 -0.185226  1.792993 -0.863291 -0.010309  1.247203  0.237609   \n",
              "4   2.0 -1.158233  0.877737  1.548718  0.403034 -0.407193  0.095921  0.592941   \n",
              "\n",
              "         V8        V9  ...       V20       V21       V22       V23       V24  \\\n",
              "0  0.098698  0.363787  ...  0.251412 -0.018307  0.277838 -0.110474  0.066928   \n",
              "1  0.085102 -0.255425  ... -0.069083 -0.225775 -0.638672  0.101288 -0.339846   \n",
              "2  0.247676 -1.514654  ...  0.524980  0.247998  0.771679  0.909412 -0.689281   \n",
              "3  0.377436 -1.387024  ... -0.208038 -0.108300  0.005274 -0.190321 -1.175575   \n",
              "4 -0.270533  0.817739  ...  0.408542 -0.009431  0.798278 -0.137458  0.141267   \n",
              "\n",
              "        V25       V26       V27       V28  Amount  \n",
              "0  0.128539 -0.189115  0.133558 -0.021053  149.62  \n",
              "1  0.167170  0.125895 -0.008983  0.014724    2.69  \n",
              "2 -0.327642 -0.139097 -0.055353 -0.059752  378.66  \n",
              "3  0.647376 -0.221929  0.062723  0.061458  123.50  \n",
              "4 -0.206010  0.502292  0.219422  0.215153   69.99  \n",
              "\n",
              "[5 rows x 30 columns]"
            ],
            "text/html": [
              "\n",
              "  <div id=\"df-8bb6efea-68af-4630-bd90-9a83899a7501\">\n",
              "    <div class=\"colab-df-container\">\n",
              "      <div>\n",
              "<style scoped>\n",
              "    .dataframe tbody tr th:only-of-type {\n",
              "        vertical-align: middle;\n",
              "    }\n",
              "\n",
              "    .dataframe tbody tr th {\n",
              "        vertical-align: top;\n",
              "    }\n",
              "\n",
              "    .dataframe thead th {\n",
              "        text-align: right;\n",
              "    }\n",
              "</style>\n",
              "<table border=\"1\" class=\"dataframe\">\n",
              "  <thead>\n",
              "    <tr style=\"text-align: right;\">\n",
              "      <th></th>\n",
              "      <th>Time</th>\n",
              "      <th>V1</th>\n",
              "      <th>V2</th>\n",
              "      <th>V3</th>\n",
              "      <th>V4</th>\n",
              "      <th>V5</th>\n",
              "      <th>V6</th>\n",
              "      <th>V7</th>\n",
              "      <th>V8</th>\n",
              "      <th>V9</th>\n",
              "      <th>...</th>\n",
              "      <th>V20</th>\n",
              "      <th>V21</th>\n",
              "      <th>V22</th>\n",
              "      <th>V23</th>\n",
              "      <th>V24</th>\n",
              "      <th>V25</th>\n",
              "      <th>V26</th>\n",
              "      <th>V27</th>\n",
              "      <th>V28</th>\n",
              "      <th>Amount</th>\n",
              "    </tr>\n",
              "  </thead>\n",
              "  <tbody>\n",
              "    <tr>\n",
              "      <th>0</th>\n",
              "      <td>0.0</td>\n",
              "      <td>-1.359807</td>\n",
              "      <td>-0.072781</td>\n",
              "      <td>2.536347</td>\n",
              "      <td>1.378155</td>\n",
              "      <td>-0.338321</td>\n",
              "      <td>0.462388</td>\n",
              "      <td>0.239599</td>\n",
              "      <td>0.098698</td>\n",
              "      <td>0.363787</td>\n",
              "      <td>...</td>\n",
              "      <td>0.251412</td>\n",
              "      <td>-0.018307</td>\n",
              "      <td>0.277838</td>\n",
              "      <td>-0.110474</td>\n",
              "      <td>0.066928</td>\n",
              "      <td>0.128539</td>\n",
              "      <td>-0.189115</td>\n",
              "      <td>0.133558</td>\n",
              "      <td>-0.021053</td>\n",
              "      <td>149.62</td>\n",
              "    </tr>\n",
              "    <tr>\n",
              "      <th>1</th>\n",
              "      <td>0.0</td>\n",
              "      <td>1.191857</td>\n",
              "      <td>0.266151</td>\n",
              "      <td>0.166480</td>\n",
              "      <td>0.448154</td>\n",
              "      <td>0.060018</td>\n",
              "      <td>-0.082361</td>\n",
              "      <td>-0.078803</td>\n",
              "      <td>0.085102</td>\n",
              "      <td>-0.255425</td>\n",
              "      <td>...</td>\n",
              "      <td>-0.069083</td>\n",
              "      <td>-0.225775</td>\n",
              "      <td>-0.638672</td>\n",
              "      <td>0.101288</td>\n",
              "      <td>-0.339846</td>\n",
              "      <td>0.167170</td>\n",
              "      <td>0.125895</td>\n",
              "      <td>-0.008983</td>\n",
              "      <td>0.014724</td>\n",
              "      <td>2.69</td>\n",
              "    </tr>\n",
              "    <tr>\n",
              "      <th>2</th>\n",
              "      <td>1.0</td>\n",
              "      <td>-1.358354</td>\n",
              "      <td>-1.340163</td>\n",
              "      <td>1.773209</td>\n",
              "      <td>0.379780</td>\n",
              "      <td>-0.503198</td>\n",
              "      <td>1.800499</td>\n",
              "      <td>0.791461</td>\n",
              "      <td>0.247676</td>\n",
              "      <td>-1.514654</td>\n",
              "      <td>...</td>\n",
              "      <td>0.524980</td>\n",
              "      <td>0.247998</td>\n",
              "      <td>0.771679</td>\n",
              "      <td>0.909412</td>\n",
              "      <td>-0.689281</td>\n",
              "      <td>-0.327642</td>\n",
              "      <td>-0.139097</td>\n",
              "      <td>-0.055353</td>\n",
              "      <td>-0.059752</td>\n",
              "      <td>378.66</td>\n",
              "    </tr>\n",
              "    <tr>\n",
              "      <th>3</th>\n",
              "      <td>1.0</td>\n",
              "      <td>-0.966272</td>\n",
              "      <td>-0.185226</td>\n",
              "      <td>1.792993</td>\n",
              "      <td>-0.863291</td>\n",
              "      <td>-0.010309</td>\n",
              "      <td>1.247203</td>\n",
              "      <td>0.237609</td>\n",
              "      <td>0.377436</td>\n",
              "      <td>-1.387024</td>\n",
              "      <td>...</td>\n",
              "      <td>-0.208038</td>\n",
              "      <td>-0.108300</td>\n",
              "      <td>0.005274</td>\n",
              "      <td>-0.190321</td>\n",
              "      <td>-1.175575</td>\n",
              "      <td>0.647376</td>\n",
              "      <td>-0.221929</td>\n",
              "      <td>0.062723</td>\n",
              "      <td>0.061458</td>\n",
              "      <td>123.50</td>\n",
              "    </tr>\n",
              "    <tr>\n",
              "      <th>4</th>\n",
              "      <td>2.0</td>\n",
              "      <td>-1.158233</td>\n",
              "      <td>0.877737</td>\n",
              "      <td>1.548718</td>\n",
              "      <td>0.403034</td>\n",
              "      <td>-0.407193</td>\n",
              "      <td>0.095921</td>\n",
              "      <td>0.592941</td>\n",
              "      <td>-0.270533</td>\n",
              "      <td>0.817739</td>\n",
              "      <td>...</td>\n",
              "      <td>0.408542</td>\n",
              "      <td>-0.009431</td>\n",
              "      <td>0.798278</td>\n",
              "      <td>-0.137458</td>\n",
              "      <td>0.141267</td>\n",
              "      <td>-0.206010</td>\n",
              "      <td>0.502292</td>\n",
              "      <td>0.219422</td>\n",
              "      <td>0.215153</td>\n",
              "      <td>69.99</td>\n",
              "    </tr>\n",
              "  </tbody>\n",
              "</table>\n",
              "<p>5 rows × 30 columns</p>\n",
              "</div>\n",
              "      <button class=\"colab-df-convert\" onclick=\"convertToInteractive('df-8bb6efea-68af-4630-bd90-9a83899a7501')\"\n",
              "              title=\"Convert this dataframe to an interactive table.\"\n",
              "              style=\"display:none;\">\n",
              "        \n",
              "  <svg xmlns=\"http://www.w3.org/2000/svg\" height=\"24px\"viewBox=\"0 0 24 24\"\n",
              "       width=\"24px\">\n",
              "    <path d=\"M0 0h24v24H0V0z\" fill=\"none\"/>\n",
              "    <path d=\"M18.56 5.44l.94 2.06.94-2.06 2.06-.94-2.06-.94-.94-2.06-.94 2.06-2.06.94zm-11 1L8.5 8.5l.94-2.06 2.06-.94-2.06-.94L8.5 2.5l-.94 2.06-2.06.94zm10 10l.94 2.06.94-2.06 2.06-.94-2.06-.94-.94-2.06-.94 2.06-2.06.94z\"/><path d=\"M17.41 7.96l-1.37-1.37c-.4-.4-.92-.59-1.43-.59-.52 0-1.04.2-1.43.59L10.3 9.45l-7.72 7.72c-.78.78-.78 2.05 0 2.83L4 21.41c.39.39.9.59 1.41.59.51 0 1.02-.2 1.41-.59l7.78-7.78 2.81-2.81c.8-.78.8-2.07 0-2.86zM5.41 20L4 18.59l7.72-7.72 1.47 1.35L5.41 20z\"/>\n",
              "  </svg>\n",
              "      </button>\n",
              "      \n",
              "  <style>\n",
              "    .colab-df-container {\n",
              "      display:flex;\n",
              "      flex-wrap:wrap;\n",
              "      gap: 12px;\n",
              "    }\n",
              "\n",
              "    .colab-df-convert {\n",
              "      background-color: #E8F0FE;\n",
              "      border: none;\n",
              "      border-radius: 50%;\n",
              "      cursor: pointer;\n",
              "      display: none;\n",
              "      fill: #1967D2;\n",
              "      height: 32px;\n",
              "      padding: 0 0 0 0;\n",
              "      width: 32px;\n",
              "    }\n",
              "\n",
              "    .colab-df-convert:hover {\n",
              "      background-color: #E2EBFA;\n",
              "      box-shadow: 0px 1px 2px rgba(60, 64, 67, 0.3), 0px 1px 3px 1px rgba(60, 64, 67, 0.15);\n",
              "      fill: #174EA6;\n",
              "    }\n",
              "\n",
              "    [theme=dark] .colab-df-convert {\n",
              "      background-color: #3B4455;\n",
              "      fill: #D2E3FC;\n",
              "    }\n",
              "\n",
              "    [theme=dark] .colab-df-convert:hover {\n",
              "      background-color: #434B5C;\n",
              "      box-shadow: 0px 1px 3px 1px rgba(0, 0, 0, 0.15);\n",
              "      filter: drop-shadow(0px 1px 2px rgba(0, 0, 0, 0.3));\n",
              "      fill: #FFFFFF;\n",
              "    }\n",
              "  </style>\n",
              "\n",
              "      <script>\n",
              "        const buttonEl =\n",
              "          document.querySelector('#df-8bb6efea-68af-4630-bd90-9a83899a7501 button.colab-df-convert');\n",
              "        buttonEl.style.display =\n",
              "          google.colab.kernel.accessAllowed ? 'block' : 'none';\n",
              "\n",
              "        async function convertToInteractive(key) {\n",
              "          const element = document.querySelector('#df-8bb6efea-68af-4630-bd90-9a83899a7501');\n",
              "          const dataTable =\n",
              "            await google.colab.kernel.invokeFunction('convertToInteractive',\n",
              "                                                     [key], {});\n",
              "          if (!dataTable) return;\n",
              "\n",
              "          const docLinkHtml = 'Like what you see? Visit the ' +\n",
              "            '<a target=\"_blank\" href=https://colab.research.google.com/notebooks/data_table.ipynb>data table notebook</a>'\n",
              "            + ' to learn more about interactive tables.';\n",
              "          element.innerHTML = '';\n",
              "          dataTable['output_type'] = 'display_data';\n",
              "          await google.colab.output.renderOutput(dataTable, element);\n",
              "          const docLink = document.createElement('div');\n",
              "          docLink.innerHTML = docLinkHtml;\n",
              "          element.appendChild(docLink);\n",
              "        }\n",
              "      </script>\n",
              "    </div>\n",
              "  </div>\n",
              "  "
            ]
          },
          "metadata": {},
          "execution_count": 129
        }
      ]
    },
    {
      "cell_type": "code",
      "source": [
        "X.shape"
      ],
      "metadata": {
        "colab": {
          "base_uri": "https://localhost:8080/"
        },
        "id": "KM5dPWRlaayN",
        "outputId": "8319003e-3b90-42af-88d9-fa0da8165678"
      },
      "execution_count": null,
      "outputs": [
        {
          "output_type": "execute_result",
          "data": {
            "text/plain": [
              "(283726, 30)"
            ]
          },
          "metadata": {},
          "execution_count": 130
        }
      ]
    },
    {
      "cell_type": "code",
      "source": [
        "X.drop('Time', axis=1, inplace = True)"
      ],
      "metadata": {
        "id": "njgCc_bmaoWv"
      },
      "execution_count": null,
      "outputs": []
    },
    {
      "cell_type": "code",
      "source": [
        "X.shape"
      ],
      "metadata": {
        "colab": {
          "base_uri": "https://localhost:8080/"
        },
        "id": "xsjgMsukargq",
        "outputId": "b326eb43-a385-4134-d45a-8f97235cb63a"
      },
      "execution_count": null,
      "outputs": [
        {
          "output_type": "execute_result",
          "data": {
            "text/plain": [
              "(283726, 29)"
            ]
          },
          "metadata": {},
          "execution_count": 132
        }
      ]
    },
    {
      "cell_type": "code",
      "source": [
        "from sklearn.model_selection import train_test_split"
      ],
      "metadata": {
        "id": "uCP7J1XGa0TM"
      },
      "execution_count": null,
      "outputs": []
    },
    {
      "cell_type": "code",
      "source": [
        "X_train, X_test, y_train, y_test = train_test_split(X, y, test_size=0.2,random_state=True )"
      ],
      "metadata": {
        "id": "5-yLim7Ha-rp"
      },
      "execution_count": null,
      "outputs": []
    },
    {
      "cell_type": "code",
      "source": [
        "from sklearn.preprocessing import StandardScaler"
      ],
      "metadata": {
        "id": "wupsxziXbMZi"
      },
      "execution_count": null,
      "outputs": []
    },
    {
      "cell_type": "code",
      "source": [
        "SS = StandardScaler()"
      ],
      "metadata": {
        "id": "NuykmHwAbRht"
      },
      "execution_count": null,
      "outputs": []
    },
    {
      "cell_type": "code",
      "source": [
        "X_train = SS.fit_transform(X_train)"
      ],
      "metadata": {
        "id": "IkVAuwFrbUPm"
      },
      "execution_count": null,
      "outputs": []
    },
    {
      "cell_type": "code",
      "source": [
        "import time\n",
        "from sklearn.linear_model import LogisticRegression\n",
        "lr =  LogisticRegression()\n",
        "\n",
        "start = time.time()\n",
        "lr.fit(X_train, y_train)\n",
        "end = time.time()\n",
        "print(end - start)\n"
      ],
      "metadata": {
        "colab": {
          "base_uri": "https://localhost:8080/"
        },
        "id": "eAL29yOhbic2",
        "outputId": "c09d83d0-cbbf-483b-9748-e1697593bd5d"
      },
      "execution_count": null,
      "outputs": [
        {
          "output_type": "stream",
          "name": "stdout",
          "text": [
            "2.5871493816375732\n"
          ]
        }
      ]
    },
    {
      "cell_type": "code",
      "source": [],
      "metadata": {
        "id": "ovAnSoSYoeSA"
      },
      "execution_count": null,
      "outputs": []
    },
    {
      "cell_type": "code",
      "source": [
        "start = time.time()\n",
        "print(lr.score(X_train, y_train))\n",
        "print(lr.score(X_test, y_test))\n",
        "end = time.time()\n",
        "print(end - start)"
      ],
      "metadata": {
        "colab": {
          "base_uri": "https://localhost:8080/"
        },
        "id": "hm9Z3KKIdgon",
        "outputId": "f63cf3e1-bc22-4488-f47a-e21180691ffc"
      },
      "execution_count": null,
      "outputs": [
        {
          "output_type": "stream",
          "name": "stdout",
          "text": [
            "0.9991937615648956\n",
            "0.5764635392803017\n",
            "0.06392836570739746\n"
          ]
        },
        {
          "output_type": "stream",
          "name": "stderr",
          "text": [
            "/usr/local/lib/python3.7/dist-packages/sklearn/base.py:444: UserWarning: X has feature names, but LogisticRegression was fitted without feature names\n",
            "  f\"X has feature names, but {self.__class__.__name__} was fitted without\"\n"
          ]
        }
      ]
    },
    {
      "cell_type": "code",
      "source": [
        "from sklearn.metrics import f1_score\n",
        "y_pred = lr.predict(X_test)\n",
        "print(f1_score(y_test, y_pred))\n"
      ],
      "metadata": {
        "colab": {
          "base_uri": "https://localhost:8080/"
        },
        "id": "5jPMERufepbr",
        "outputId": "237fa56d-387d-4e45-b92d-a1f4ab429bc6"
      },
      "execution_count": null,
      "outputs": [
        {
          "output_type": "stream",
          "name": "stdout",
          "text": [
            "0.006120254734926805\n"
          ]
        },
        {
          "output_type": "stream",
          "name": "stderr",
          "text": [
            "/usr/local/lib/python3.7/dist-packages/sklearn/base.py:444: UserWarning: X has feature names, but LogisticRegression was fitted without feature names\n",
            "  f\"X has feature names, but {self.__class__.__name__} was fitted without\"\n"
          ]
        }
      ]
    },
    {
      "cell_type": "code",
      "source": [
        "from sklearn.metrics import plot_confusion_matrix\n",
        "plot_confusion_matrix(lr, X_test, y_test)"
      ],
      "metadata": {
        "colab": {
          "base_uri": "https://localhost:8080/",
          "height": 386
        },
        "id": "gJdbP5t_fShb",
        "outputId": "30b72817-c124-4e06-d96d-adb7daf23c2d"
      },
      "execution_count": null,
      "outputs": [
        {
          "output_type": "stream",
          "name": "stderr",
          "text": [
            "/usr/local/lib/python3.7/dist-packages/sklearn/utils/deprecation.py:87: FutureWarning: Function plot_confusion_matrix is deprecated; Function `plot_confusion_matrix` is deprecated in 1.0 and will be removed in 1.2. Use one of the class methods: ConfusionMatrixDisplay.from_predictions or ConfusionMatrixDisplay.from_estimator.\n",
            "  warnings.warn(msg, category=FutureWarning)\n",
            "/usr/local/lib/python3.7/dist-packages/sklearn/base.py:444: UserWarning: X has feature names, but LogisticRegression was fitted without feature names\n",
            "  f\"X has feature names, but {self.__class__.__name__} was fitted without\"\n"
          ]
        },
        {
          "output_type": "execute_result",
          "data": {
            "text/plain": [
              "<sklearn.metrics._plot.confusion_matrix.ConfusionMatrixDisplay at 0x7f5cc037d450>"
            ]
          },
          "metadata": {},
          "execution_count": 144
        },
        {
          "output_type": "display_data",
          "data": {
            "text/plain": [
              "<Figure size 432x288 with 2 Axes>"
            ],
            "image/png": "[encoded data removed]"
          },
          "metadata": {
            "needs_background": "light"
          }
        }
      ]
    },
    {
      "cell_type": "code",
      "source": [
        "################### SVC"
      ],
      "metadata": {
        "id": "XsAD55CtlfY5"
      },
      "execution_count": null,
      "outputs": []
    },
    {
      "cell_type": "code",
      "source": [
        "from sklearn.svm import SVC\n",
        "svc =  SVC()\n",
        "\n",
        "start = time.time()\n",
        "svc.fit(X_train, y_train)\n",
        "end = time.time()\n",
        "print(end - start)\n"
      ],
      "metadata": {
        "colab": {
          "base_uri": "https://localhost:8080/"
        },
        "id": "h_3uUP3yfiOe",
        "outputId": "caae7767-23a3-4810-ae99-b0bdac71b9f9"
      },
      "execution_count": null,
      "outputs": [
        {
          "output_type": "stream",
          "name": "stdout",
          "text": [
            "361.3328654766083\n"
          ]
        }
      ]
    },
    {
      "cell_type": "code",
      "source": [
        "start = time.time()\n",
        "print(svc.score(X_train, y_train))\n",
        "print(svc.score(X_test, y_test))\n",
        "end = time.time()\n",
        "print(end - start)"
      ],
      "metadata": {
        "colab": {
          "base_uri": "https://localhost:8080/"
        },
        "id": "bHBGi-28gUr-",
        "outputId": "b45c9dd9-0c4c-493c-c64c-f991470979ae"
      },
      "execution_count": null,
      "outputs": [
        {
          "output_type": "stream",
          "name": "stdout",
          "text": [
            "0.9996827914353688\n"
          ]
        },
        {
          "output_type": "stream",
          "name": "stderr",
          "text": [
            "/usr/local/lib/python3.7/dist-packages/sklearn/base.py:444: UserWarning: X has feature names, but SVC was fitted without feature names\n",
            "  f\"X has feature names, but {self.__class__.__name__} was fitted without\"\n"
          ]
        },
        {
          "output_type": "stream",
          "name": "stdout",
          "text": [
            "0.9986959433264019\n",
            "88.71315932273865\n"
          ]
        }
      ]
    },
    {
      "cell_type": "code",
      "source": [
        "from sklearn.metrics import f1_score\n",
        "y_pred = svc.predict(X_test)\n",
        "print(f1_score(y_test, y_pred))\n",
        "\n",
        "from sklearn.metrics import plot_confusion_matrix\n",
        "plot_confusion_matrix(svc, X_test, y_test)"
      ],
      "metadata": {
        "colab": {
          "base_uri": "https://localhost:8080/",
          "height": 438
        },
        "id": "MoIOjHYmgLhi",
        "outputId": "a78b8adb-7d03-4f45-8dcb-bb03b1cceda5"
      },
      "execution_count": null,
      "outputs": [
        {
          "output_type": "stream",
          "name": "stderr",
          "text": [
            "/usr/local/lib/python3.7/dist-packages/sklearn/base.py:444: UserWarning: X has feature names, but SVC was fitted without feature names\n",
            "  f\"X has feature names, but {self.__class__.__name__} was fitted without\"\n"
          ]
        },
        {
          "output_type": "stream",
          "name": "stdout",
          "text": [
            "0.27450980392156865\n"
          ]
        },
        {
          "output_type": "stream",
          "name": "stderr",
          "text": [
            "/usr/local/lib/python3.7/dist-packages/sklearn/utils/deprecation.py:87: FutureWarning: Function plot_confusion_matrix is deprecated; Function `plot_confusion_matrix` is deprecated in 1.0 and will be removed in 1.2. Use one of the class methods: ConfusionMatrixDisplay.from_predictions or ConfusionMatrixDisplay.from_estimator.\n",
            "  warnings.warn(msg, category=FutureWarning)\n",
            "/usr/local/lib/python3.7/dist-packages/sklearn/base.py:444: UserWarning: X has feature names, but SVC was fitted without feature names\n",
            "  f\"X has feature names, but {self.__class__.__name__} was fitted without\"\n"
          ]
        },
        {
          "output_type": "execute_result",
          "data": {
            "text/plain": [
              "<sklearn.metrics._plot.confusion_matrix.ConfusionMatrixDisplay at 0x7f5cc2e39090>"
            ]
          },
          "metadata": {},
          "execution_count": 148
        },
        {
          "output_type": "display_data",
          "data": {
            "text/plain": [
              "<Figure size 432x288 with 2 Axes>"
            ],
            "image/png": "[encoded data removed]"
          },
          "metadata": {
            "needs_background": "light"
          }
        }
      ]
    },
    {
      "cell_type": "code",
      "source": [
        "################### KNN"
      ],
      "metadata": {
        "id": "G71P06HqlXAA"
      },
      "execution_count": null,
      "outputs": []
    },
    {
      "cell_type": "code",
      "source": [
        "from sklearn.neighbors import KNeighborsClassifier\n",
        "knn =  KNeighborsClassifier()\n",
        "\n",
        "start = time.time()\n",
        "knn.fit(X_train, y_train)\n",
        "end = time.time()\n",
        "print(end - start)"
      ],
      "metadata": {
        "colab": {
          "base_uri": "https://localhost:8080/"
        },
        "id": "IRgDOyHCgbIQ",
        "outputId": "61487ab7-85ca-4add-b98e-978279b7fa4f"
      },
      "execution_count": null,
      "outputs": [
        {
          "output_type": "stream",
          "name": "stdout",
          "text": [
            "0.025186538696289062\n"
          ]
        }
      ]
    },
    {
      "cell_type": "code",
      "source": [
        "start = time.time()\n",
        "print(knn.score(X_train, y_train))\n",
        "print(knn.score(X_test, y_test))\n",
        "end = time.time()\n",
        "print(end - start)"
      ],
      "metadata": {
        "id": "0ePKUBBUgv3j"
      },
      "execution_count": null,
      "outputs": []
    },
    {
      "cell_type": "code",
      "source": [
        "from sklearn.metrics import f1_score\n",
        "y_pred = knn.predict(X_test)\n",
        "print(f1_score(y_test, y_pred))\n",
        "\n",
        "from sklearn.metrics import plot_confusion_matrix\n",
        "plot_confusion_matrix(knn, X_test, y_test)"
      ],
      "metadata": {
        "id": "-h5uwoRogzQj"
      },
      "execution_count": null,
      "outputs": []
    },
    {
      "cell_type": "code",
      "source": [
        "X_test = SS.transform(X_test)"
      ],
      "metadata": {
        "id": "vU809yTloxxa"
      },
      "execution_count": null,
      "outputs": []
    },
    {
      "cell_type": "code",
      "source": [
        "############## DecisonTreeClassifier"
      ],
      "metadata": {
        "id": "dHUptvZkhOeV"
      },
      "execution_count": null,
      "outputs": []
    },
    {
      "cell_type": "code",
      "source": [
        "from sklearn.tree import DecisionTreeClassifier\n",
        "dtc =  DecisionTreeClassifier()\n",
        "\n",
        "start = time.time()\n",
        "dtc.fit(X_train, y_train)\n",
        "end = time.time()\n",
        "print(end - start)"
      ],
      "metadata": {
        "colab": {
          "base_uri": "https://localhost:8080/"
        },
        "id": "cm9eII5WhR75",
        "outputId": "9602af2c-80fc-4456-f358-acf8e85f86ae"
      },
      "execution_count": null,
      "outputs": [
        {
          "output_type": "stream",
          "name": "stdout",
          "text": [
            "25.049259901046753\n"
          ]
        }
      ]
    },
    {
      "cell_type": "code",
      "source": [
        "start = time.time()\n",
        "print(dtc.score(X_train, y_train))\n",
        "print(dtc.score(X_test, y_test))\n",
        "end = time.time()\n",
        "print(end - start)"
      ],
      "metadata": {
        "colab": {
          "base_uri": "https://localhost:8080/"
        },
        "id": "CTNOuN8ghomG",
        "outputId": "6ff5cd6c-c3ca-4949-be7c-9eb36f5ab7d8"
      },
      "execution_count": null,
      "outputs": [
        {
          "output_type": "stream",
          "name": "stdout",
          "text": [
            "1.0\n",
            "0.9991541254009093\n",
            "0.08294057846069336\n"
          ]
        }
      ]
    },
    {
      "cell_type": "code",
      "source": [
        "from sklearn.metrics import f1_score\n",
        "y_pred = dtc.predict(X_test)\n",
        "print(f1_score(y_test, y_pred))\n",
        "\n",
        "from sklearn.metrics import plot_confusion_matrix\n",
        "plot_confusion_matrix(dtc, X_test, y_test)"
      ],
      "metadata": {
        "colab": {
          "base_uri": "https://localhost:8080/",
          "height": 368
        },
        "id": "7LSx4m9phuGg",
        "outputId": "6e852ebd-749c-4425-b092-aaddd16c96b6"
      },
      "execution_count": null,
      "outputs": [
        {
          "output_type": "stream",
          "name": "stdout",
          "text": [
            "0.7176470588235295\n"
          ]
        },
        {
          "output_type": "stream",
          "name": "stderr",
          "text": [
            "/usr/local/lib/python3.7/dist-packages/sklearn/utils/deprecation.py:87: FutureWarning: Function plot_confusion_matrix is deprecated; Function `plot_confusion_matrix` is deprecated in 1.0 and will be removed in 1.2. Use one of the class methods: ConfusionMatrixDisplay.from_predictions or ConfusionMatrixDisplay.from_estimator.\n",
            "  warnings.warn(msg, category=FutureWarning)\n"
          ]
        },
        {
          "output_type": "execute_result",
          "data": {
            "text/plain": [
              "<sklearn.metrics._plot.confusion_matrix.ConfusionMatrixDisplay at 0x7f5cbf81a8d0>"
            ]
          },
          "metadata": {},
          "execution_count": 158
        },
        {
          "output_type": "display_data",
          "data": {
            "text/plain": [
              "<Figure size 432x288 with 2 Axes>"
            ],
            "image/png": "[encoded data removed]"
          },
          "metadata": {
            "needs_background": "light"
          }
        }
      ]
    },
    {
      "cell_type": "code",
      "source": [
        "dtc.feature_importances_"
      ],
      "metadata": {
        "colab": {
          "base_uri": "https://localhost:8080/"
        },
        "id": "9lFQ9aJXpU-u",
        "outputId": "d4268e72-5ec6-497e-927d-a436a5d6ea3e"
      },
      "execution_count": null,
      "outputs": [
        {
          "output_type": "execute_result",
          "data": {
            "text/plain": [
              "array([0.01988235, 0.00389263, 0.01112999, 0.01961995, 0.        ,\n",
              "       0.00554123, 0.01109194, 0.00386694, 0.0022707 , 0.05393966,\n",
              "       0.00518845, 0.0944047 , 0.01027533, 0.04180184, 0.01567467,\n",
              "       0.01909047, 0.5356658 , 0.00735275, 0.00741308, 0.01368216,\n",
              "       0.01538934, 0.01296192, 0.00502565, 0.00490183, 0.00102819,\n",
              "       0.0281067 , 0.02439802, 0.00281963, 0.02358407])"
            ]
          },
          "metadata": {},
          "execution_count": 159
        }
      ]
    },
    {
      "cell_type": "code",
      "source": [
        "#################### RandomForest"
      ],
      "metadata": {
        "id": "JJukdZZQh6hc"
      },
      "execution_count": null,
      "outputs": []
    },
    {
      "cell_type": "code",
      "source": [
        "!pip install ensemble"
      ],
      "metadata": {
        "id": "Y4LqihphqG4f"
      },
      "execution_count": null,
      "outputs": []
    },
    {
      "cell_type": "code",
      "source": [
        "from sklearn.ensemble import RandomForestClassifier\n",
        "rfc =  RandomForestClassifier(n_estimators=5)\n",
        "\n",
        "start = time.time()\n",
        "rfc.fit(X_train, y_train)\n",
        "end = time.time()\n",
        "print(end - start)"
      ],
      "metadata": {
        "colab": {
          "base_uri": "https://localhost:8080/"
        },
        "id": "gIEuG1_3iBpU",
        "outputId": "38de14b7-c829-4d67-b0e3-2f66a61463d8"
      },
      "execution_count": null,
      "outputs": [
        {
          "output_type": "stream",
          "name": "stdout",
          "text": [
            "13.175117015838623\n"
          ]
        }
      ]
    },
    {
      "cell_type": "code",
      "source": [
        "start = time.time()\n",
        "print(rfc.score(X_train, y_train))\n",
        "print(rfc.score(X_test, y_test))\n",
        "end = time.time()\n",
        "print(end - start)"
      ],
      "metadata": {
        "colab": {
          "base_uri": "https://localhost:8080/"
        },
        "id": "DeA5SxOKiECC",
        "outputId": "2b3103c3-57a9-4ec0-c39c-571cd3c13ceb"
      },
      "execution_count": null,
      "outputs": [
        {
          "output_type": "stream",
          "name": "stdout",
          "text": [
            "0.9998942638117896\n",
            "0.9994008388256441\n",
            "0.2332139015197754\n"
          ]
        }
      ]
    },
    {
      "cell_type": "code",
      "source": [
        "from sklearn.metrics import f1_score\n",
        "y_pred = rfc.predict(X_test)\n",
        "print(f1_score(y_test, y_pred))\n",
        "\n",
        "from sklearn.metrics import plot_confusion_matrix\n",
        "plot_confusion_matrix(rfc, X_test, y_test)"
      ],
      "metadata": {
        "colab": {
          "base_uri": "https://localhost:8080/",
          "height": 368
        },
        "id": "5ysE5OC0iGmI",
        "outputId": "9432f93c-cf04-434b-9b93-4da022adea0d"
      },
      "execution_count": null,
      "outputs": [
        {
          "output_type": "stream",
          "name": "stdout",
          "text": [
            "0.7848101265822784\n"
          ]
        },
        {
          "output_type": "stream",
          "name": "stderr",
          "text": [
            "/usr/local/lib/python3.7/dist-packages/sklearn/utils/deprecation.py:87: FutureWarning: Function plot_confusion_matrix is deprecated; Function `plot_confusion_matrix` is deprecated in 1.0 and will be removed in 1.2. Use one of the class methods: ConfusionMatrixDisplay.from_predictions or ConfusionMatrixDisplay.from_estimator.\n",
            "  warnings.warn(msg, category=FutureWarning)\n"
          ]
        },
        {
          "output_type": "execute_result",
          "data": {
            "text/plain": [
              "<sklearn.metrics._plot.confusion_matrix.ConfusionMatrixDisplay at 0x7f5cbebd6850>"
            ]
          },
          "metadata": {},
          "execution_count": 168
        },
        {
          "output_type": "display_data",
          "data": {
            "text/plain": [
              "<Figure size 432x288 with 2 Axes>"
            ],
            "image/png": "[encoded data removed]"
          },
          "metadata": {
            "needs_background": "light"
          }
        }
      ]
    },
    {
      "cell_type": "code",
      "source": [
        "# from sklearn.linear_model import SGDClassifier\n",
        "# from sklearn.naive_bayes import GaussianNB\n",
        "# from sklearn.ensemble import GradientBoostingClassifier"
      ],
      "metadata": {
        "id": "pK5PJdUqiq3M"
      },
      "execution_count": null,
      "outputs": []
    },
    {
      "cell_type": "code",
      "source": [
        "from sklearn.model_selection import GridSearchCV, RandomizedSearchCV\n",
        "params = { 'max_depth': [3, 6, 9], 'min_samples_leaf' : [3,5,7], 'criterion': ['gini','entropy']}"
      ],
      "metadata": {
        "id": "tk54bJoMjhDc"
      },
      "execution_count": null,
      "outputs": []
    },
    {
      "cell_type": "code",
      "source": [
        "rscv = RandomizedSearchCV(rfc, params, n_iter = 6, cv = 3)"
      ],
      "metadata": {
        "id": "rqurMou8kruT"
      },
      "execution_count": null,
      "outputs": []
    },
    {
      "cell_type": "code",
      "source": [
        "rscv.fit(X_train, y_train)"
      ],
      "metadata": {
        "colab": {
          "base_uri": "https://localhost:8080/"
        },
        "id": "2LeTOdIFrY-V",
        "outputId": "da197053-3507-4d7e-b51e-7bfb653ef562"
      },
      "execution_count": null,
      "outputs": [
        {
          "output_type": "execute_result",
          "data": {
            "text/plain": [
              "RandomizedSearchCV(cv=3, estimator=RandomForestClassifier(n_estimators=5),\n",
              "                   n_iter=6,\n",
              "                   param_distributions={'criterion': ['gini', 'entropy'],\n",
              "                                        'max_depth': [3, 6, 9],\n",
              "                                        'min_samples_leaf': [3, 5, 7]})"
            ]
          },
          "metadata": {},
          "execution_count": 176
        }
      ]
    },
    {
      "cell_type": "code",
      "source": [
        "rscv.best_params_"
      ],
      "metadata": {
        "colab": {
          "base_uri": "https://localhost:8080/"
        },
        "id": "JCJus_Czq8T_",
        "outputId": "cff72d56-7280-44bf-911b-aa06ff1b6545"
      },
      "execution_count": null,
      "outputs": [
        {
          "output_type": "execute_result",
          "data": {
            "text/plain": [
              "{'min_samples_leaf': 3, 'max_depth': 9, 'criterion': 'gini'}"
            ]
          },
          "metadata": {},
          "execution_count": 177
        }
      ]
    },
    {
      "cell_type": "code",
      "source": [
        "rscv.best_score_"
      ],
      "metadata": {
        "colab": {
          "base_uri": "https://localhost:8080/"
        },
        "id": "MOe0FP5YrPIX",
        "outputId": "6abeb106-1d8e-4f57-b7bd-c16781b2fe7d"
      },
      "execution_count": null,
      "outputs": [
        {
          "output_type": "execute_result",
          "data": {
            "text/plain": [
              "0.9994492906864041"
            ]
          },
          "metadata": {},
          "execution_count": 178
        }
      ]
    },
    {
      "cell_type": "code",
      "source": [],
      "metadata": {
        "id": "53AXELuCrziI"
      },
      "execution_count": null,
      "outputs": []
    }
  ]
}